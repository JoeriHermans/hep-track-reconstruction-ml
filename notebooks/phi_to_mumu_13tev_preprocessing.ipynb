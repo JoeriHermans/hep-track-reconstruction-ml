{
 "cells": [
  {
   "cell_type": "markdown",
   "metadata": {},
   "source": [
    "# Phi to Mu-Mu 13 TeV ML Track Reconstruction Preprocessing\n",
    "\n",
    "Joeri R. Hermans                    \n",
    "*Departement of Data Science & Knowledge Engineering*          \n",
    "*Maastricht University, The Netherlands*        "
   ]
  },
  {
   "cell_type": "code",
   "execution_count": 1,
   "metadata": {
    "collapsed": false
   },
   "outputs": [
    {
     "name": "stdout",
     "output_type": "stream",
     "text": [
      "14 February 2017\r\n"
     ]
    }
   ],
   "source": [
    "!(date +%d\\ %B\\ %G)"
   ]
  },
  {
   "cell_type": "code",
   "execution_count": 2,
   "metadata": {
    "collapsed": true
   },
   "outputs": [],
   "source": [
    "import numpy as np\n",
    "import os"
   ]
  },
  {
   "cell_type": "markdown",
   "metadata": {},
   "source": [
    "List the CMS event files in the data directory."
   ]
  },
  {
   "cell_type": "code",
   "execution_count": 3,
   "metadata": {
    "collapsed": false
   },
   "outputs": [
    {
     "name": "stdout",
     "output_type": "stream",
     "text": [
      "RelValPhiToMuMu_13_GEN-SIM-RECO_evt4358\r\n"
     ]
    }
   ],
   "source": [
    "!ls ../data/"
   ]
  },
  {
   "cell_type": "markdown",
   "metadata": {},
   "source": [
    "List the track parameters files in the Phi to Mu-Mu event. The track parameters were extracted from ROOT files using [https://github.com/diana-hep/c2numpy](https://github.com/diana-hep/c2numpy)."
   ]
  },
  {
   "cell_type": "code",
   "execution_count": 4,
   "metadata": {
    "collapsed": false
   },
   "outputs": [
    {
     "name": "stdout",
     "output_type": "stream",
     "text": [
      "trackparams0.npy    trackparams14.npy\ttrackparams19.npy   trackparams52.npy\r\n",
      "trackparams100.npy  trackparams150.npy\ttrackparams1.npy    trackparams53.npy\r\n",
      "trackparams101.npy  trackparams151.npy\ttrackparams200.npy  trackparams54.npy\r\n",
      "trackparams102.npy  trackparams152.npy\ttrackparams201.npy  trackparams55.npy\r\n",
      "trackparams103.npy  trackparams153.npy\ttrackparams202.npy  trackparams56.npy\r\n",
      "trackparams104.npy  trackparams154.npy\ttrackparams203.npy  trackparams57.npy\r\n",
      "trackparams105.npy  trackparams155.npy\ttrackparams204.npy  trackparams58.npy\r\n",
      "trackparams106.npy  trackparams156.npy\ttrackparams205.npy  trackparams59.npy\r\n",
      "trackparams107.npy  trackparams157.npy\ttrackparams206.npy  trackparams5.npy\r\n",
      "trackparams108.npy  trackparams158.npy\ttrackparams207.npy  trackparams60.npy\r\n",
      "trackparams109.npy  trackparams159.npy\ttrackparams208.npy  trackparams61.npy\r\n",
      "trackparams10.npy   trackparams15.npy\ttrackparams209.npy  trackparams62.npy\r\n",
      "trackparams110.npy  trackparams160.npy\ttrackparams20.npy   trackparams63.npy\r\n",
      "trackparams111.npy  trackparams161.npy\ttrackparams210.npy  trackparams64.npy\r\n",
      "trackparams112.npy  trackparams162.npy\ttrackparams211.npy  trackparams65.npy\r\n",
      "trackparams113.npy  trackparams163.npy\ttrackparams212.npy  trackparams66.npy\r\n",
      "trackparams114.npy  trackparams164.npy\ttrackparams213.npy  trackparams67.npy\r\n",
      "trackparams115.npy  trackparams165.npy\ttrackparams214.npy  trackparams68.npy\r\n",
      "trackparams116.npy  trackparams166.npy\ttrackparams215.npy  trackparams69.npy\r\n",
      "trackparams117.npy  trackparams167.npy\ttrackparams216.npy  trackparams6.npy\r\n",
      "trackparams118.npy  trackparams168.npy\ttrackparams217.npy  trackparams70.npy\r\n",
      "trackparams119.npy  trackparams169.npy\ttrackparams21.npy   trackparams71.npy\r\n",
      "trackparams11.npy   trackparams16.npy\ttrackparams22.npy   trackparams72.npy\r\n",
      "trackparams120.npy  trackparams170.npy\ttrackparams23.npy   trackparams73.npy\r\n",
      "trackparams121.npy  trackparams171.npy\ttrackparams24.npy   trackparams74.npy\r\n",
      "trackparams122.npy  trackparams172.npy\ttrackparams25.npy   trackparams75.npy\r\n",
      "trackparams123.npy  trackparams173.npy\ttrackparams26.npy   trackparams76.npy\r\n",
      "trackparams124.npy  trackparams174.npy\ttrackparams27.npy   trackparams77.npy\r\n",
      "trackparams125.npy  trackparams175.npy\ttrackparams28.npy   trackparams78.npy\r\n",
      "trackparams126.npy  trackparams176.npy\ttrackparams29.npy   trackparams79.npy\r\n",
      "trackparams127.npy  trackparams177.npy\ttrackparams2.npy    trackparams7.npy\r\n",
      "trackparams128.npy  trackparams178.npy\ttrackparams30.npy   trackparams80.npy\r\n",
      "trackparams129.npy  trackparams179.npy\ttrackparams31.npy   trackparams81.npy\r\n",
      "trackparams12.npy   trackparams17.npy\ttrackparams32.npy   trackparams82.npy\r\n",
      "trackparams130.npy  trackparams180.npy\ttrackparams33.npy   trackparams83.npy\r\n",
      "trackparams131.npy  trackparams181.npy\ttrackparams34.npy   trackparams84.npy\r\n",
      "trackparams132.npy  trackparams182.npy\ttrackparams35.npy   trackparams85.npy\r\n",
      "trackparams133.npy  trackparams183.npy\ttrackparams36.npy   trackparams86.npy\r\n",
      "trackparams134.npy  trackparams184.npy\ttrackparams37.npy   trackparams87.npy\r\n",
      "trackparams135.npy  trackparams185.npy\ttrackparams38.npy   trackparams88.npy\r\n",
      "trackparams136.npy  trackparams186.npy\ttrackparams39.npy   trackparams89.npy\r\n",
      "trackparams137.npy  trackparams187.npy\ttrackparams3.npy    trackparams8.npy\r\n",
      "trackparams138.npy  trackparams188.npy\ttrackparams40.npy   trackparams90.npy\r\n",
      "trackparams139.npy  trackparams189.npy\ttrackparams41.npy   trackparams91.npy\r\n",
      "trackparams13.npy   trackparams18.npy\ttrackparams42.npy   trackparams92.npy\r\n",
      "trackparams140.npy  trackparams190.npy\ttrackparams43.npy   trackparams93.npy\r\n",
      "trackparams141.npy  trackparams191.npy\ttrackparams44.npy   trackparams94.npy\r\n",
      "trackparams142.npy  trackparams192.npy\ttrackparams45.npy   trackparams95.npy\r\n",
      "trackparams143.npy  trackparams193.npy\ttrackparams46.npy   trackparams96.npy\r\n",
      "trackparams144.npy  trackparams194.npy\ttrackparams47.npy   trackparams97.npy\r\n",
      "trackparams145.npy  trackparams195.npy\ttrackparams48.npy   trackparams98.npy\r\n",
      "trackparams146.npy  trackparams196.npy\ttrackparams49.npy   trackparams99.npy\r\n",
      "trackparams147.npy  trackparams197.npy\ttrackparams4.npy    trackparams9.npy\r\n",
      "trackparams148.npy  trackparams198.npy\ttrackparams50.npy\r\n",
      "trackparams149.npy  trackparams199.npy\ttrackparams51.npy\r\n"
     ]
    }
   ],
   "source": [
    "# Set the relevant data directory.\n",
    "data_directory = \"../data/RelValPhiToMuMu_13_GEN-SIM-RECO_evt4358/\"\n",
    "# List the track parameters.\n",
    "!ls ../data/RelValPhiToMuMu_13_GEN-SIM-RECO_evt4358"
   ]
  },
  {
   "cell_type": "code",
   "execution_count": 5,
   "metadata": {
    "collapsed": false
   },
   "outputs": [],
   "source": [
    "# Fetch the track parameter files from the data directory.\n",
    "files = os.listdir(data_directory)\n",
    "\n",
    "num_files = len(files)\n",
    "data = np.load(data_directory + files[0])\n",
    "# Load the track parameters in memory.\n",
    "for i in range(1, num_files):\n",
    "    data = np.append(data, np.load(data_directory + files[i]))"
   ]
  },
  {
   "cell_type": "code",
   "execution_count": 6,
   "metadata": {
    "collapsed": false
   },
   "outputs": [
    {
     "data": {
      "text/plain": [
       "('run',\n",
       " 'evt',\n",
       " 'lumi',\n",
       " 'TrackId',\n",
       " 'charge',\n",
       " 'chi2',\n",
       " 'ndof',\n",
       " 'normalizedChi2',\n",
       " 'qoverp',\n",
       " 'theta',\n",
       " 'lambda',\n",
       " 'dxy',\n",
       " 'd0',\n",
       " 'dsz',\n",
       " 'dz',\n",
       " 'p',\n",
       " 'pt',\n",
       " 'px',\n",
       " 'py',\n",
       " 'pz',\n",
       " 'eta',\n",
       " 'phi',\n",
       " 'vx',\n",
       " 'vy',\n",
       " 'vz',\n",
       " 'pix_0_x',\n",
       " 'pix_0_y',\n",
       " 'pix_0_z',\n",
       " 'pix_1_x',\n",
       " 'pix_1_y',\n",
       " 'pix_1_z',\n",
       " 'pix_2_x',\n",
       " 'pix_2_y',\n",
       " 'pix_2_z',\n",
       " 'pix_3_x',\n",
       " 'pix_3_y',\n",
       " 'pix_3_z',\n",
       " 'pix_4_x',\n",
       " 'pix_4_y',\n",
       " 'pix_4_z',\n",
       " 'sis_0_x',\n",
       " 'sis_0_y',\n",
       " 'sis_0_z',\n",
       " 'sis_1_x',\n",
       " 'sis_1_y',\n",
       " 'sis_1_z',\n",
       " 'sis_2_x',\n",
       " 'sis_2_y',\n",
       " 'sis_2_z',\n",
       " 'sis_3_x',\n",
       " 'sis_3_y',\n",
       " 'sis_3_z',\n",
       " 'sis_4_x',\n",
       " 'sis_4_y',\n",
       " 'sis_4_z',\n",
       " 'sis_5_x',\n",
       " 'sis_5_y',\n",
       " 'sis_5_z',\n",
       " 'sis_6_x',\n",
       " 'sis_6_y',\n",
       " 'sis_6_z',\n",
       " 'sis_7_x',\n",
       " 'sis_7_y',\n",
       " 'sis_7_z',\n",
       " 'sis_8_x',\n",
       " 'sis_8_y',\n",
       " 'sis_8_z',\n",
       " 'sis_9_x',\n",
       " 'sis_9_y',\n",
       " 'sis_9_z',\n",
       " 'sis_10_x',\n",
       " 'sis_10_y',\n",
       " 'sis_10_z',\n",
       " 'sis_11_x',\n",
       " 'sis_11_y',\n",
       " 'sis_11_z',\n",
       " 'sis_12_x',\n",
       " 'sis_12_y',\n",
       " 'sis_12_z',\n",
       " 'sis_13_x',\n",
       " 'sis_13_y',\n",
       " 'sis_13_z',\n",
       " 'sis_14_x',\n",
       " 'sis_14_y',\n",
       " 'sis_14_z',\n",
       " 'sis_15_x',\n",
       " 'sis_15_y',\n",
       " 'sis_15_z',\n",
       " 'sis_16_x',\n",
       " 'sis_16_y',\n",
       " 'sis_16_z',\n",
       " 'sis_17_x',\n",
       " 'sis_17_y',\n",
       " 'sis_17_z',\n",
       " 'sis_18_x',\n",
       " 'sis_18_y',\n",
       " 'sis_18_z',\n",
       " 'sis_19_x',\n",
       " 'sis_19_y',\n",
       " 'sis_19_z',\n",
       " 'sis_20_x',\n",
       " 'sis_20_y',\n",
       " 'sis_20_z',\n",
       " 'sis_21_x',\n",
       " 'sis_21_y',\n",
       " 'sis_21_z',\n",
       " 'sis_22_x',\n",
       " 'sis_22_y',\n",
       " 'sis_22_z',\n",
       " 'sis_23_x',\n",
       " 'sis_23_y',\n",
       " 'sis_23_z',\n",
       " 'sis_24_x',\n",
       " 'sis_24_y',\n",
       " 'sis_24_z',\n",
       " 'sis_25_x',\n",
       " 'sis_25_y',\n",
       " 'sis_25_z',\n",
       " 'sis_26_x',\n",
       " 'sis_26_y',\n",
       " 'sis_26_z',\n",
       " 'sis_27_x',\n",
       " 'sis_27_y',\n",
       " 'sis_27_z',\n",
       " 'sis_28_x',\n",
       " 'sis_28_y',\n",
       " 'sis_28_z',\n",
       " 'sis_29_x',\n",
       " 'sis_29_y',\n",
       " 'sis_29_z',\n",
       " 'sis_30_x',\n",
       " 'sis_30_y',\n",
       " 'sis_30_z',\n",
       " 'sis_31_x',\n",
       " 'sis_31_y',\n",
       " 'sis_31_z',\n",
       " 'sis_32_x',\n",
       " 'sis_32_y',\n",
       " 'sis_32_z',\n",
       " 'sis_33_x',\n",
       " 'sis_33_y',\n",
       " 'sis_33_z',\n",
       " 'sis_34_x',\n",
       " 'sis_34_y',\n",
       " 'sis_34_z',\n",
       " 'sis_35_x',\n",
       " 'sis_35_y',\n",
       " 'sis_35_z',\n",
       " 'sis_36_x',\n",
       " 'sis_36_y',\n",
       " 'sis_36_z',\n",
       " 'sis_37_x',\n",
       " 'sis_37_y',\n",
       " 'sis_37_z',\n",
       " 'sis_38_x',\n",
       " 'sis_38_y',\n",
       " 'sis_38_z',\n",
       " 'sis_39_x',\n",
       " 'sis_39_y',\n",
       " 'sis_39_z',\n",
       " 'sis_40_x',\n",
       " 'sis_40_y',\n",
       " 'sis_40_z',\n",
       " 'sis_41_x',\n",
       " 'sis_41_y',\n",
       " 'sis_41_z',\n",
       " 'sis_42_x',\n",
       " 'sis_42_y',\n",
       " 'sis_42_z',\n",
       " 'sis_43_x',\n",
       " 'sis_43_y',\n",
       " 'sis_43_z',\n",
       " 'sis_44_x',\n",
       " 'sis_44_y',\n",
       " 'sis_44_z',\n",
       " 'sis_45_x',\n",
       " 'sis_45_y',\n",
       " 'sis_45_z',\n",
       " 'sis_46_x',\n",
       " 'sis_46_y',\n",
       " 'sis_46_z',\n",
       " 'sis_47_x',\n",
       " 'sis_47_y',\n",
       " 'sis_47_z',\n",
       " 'sis_48_x',\n",
       " 'sis_48_y',\n",
       " 'sis_48_z',\n",
       " 'sis_49_x',\n",
       " 'sis_49_y',\n",
       " 'sis_49_z')"
      ]
     },
     "execution_count": 6,
     "metadata": {},
     "output_type": "execute_result"
    }
   ],
   "source": [
    "# List the column names of the event files.\n",
    "data.dtype.names"
   ]
  },
  {
   "cell_type": "code",
   "execution_count": 7,
   "metadata": {
    "collapsed": false
   },
   "outputs": [],
   "source": [
    "# Construct the header string.\n",
    "num_columns = len(data.dtype.names)\n",
    "header = data.dtype.names[0]\n",
    "for i in range(1, num_columns):\n",
    "    header += \",\" + data.dtype.names[i]\n",
    "header += \"\\n\"\n",
    "\n",
    "!rm phi-to-mumu-13tev.csv\n",
    "# Save the data as a CSV file for further processing in Apache Spark.\n",
    "np.savetxt(\"phi-to-mumu-13tev.csv\", data, header=header, delimiter=\",\")"
   ]
  },
  {
   "cell_type": "code",
   "execution_count": null,
   "metadata": {
    "collapsed": true
   },
   "outputs": [],
   "source": [
    "# Store the data in HDFS.\n",
    "!hdfs dfs -copyFromLocal phi-to-mumu-13tev.csv"
   ]
  }
 ],
 "metadata": {
  "kernelspec": {
   "display_name": "Python [conda root]",
   "language": "python",
   "name": "conda-root-py"
  },
  "language_info": {
   "codemirror_mode": {
    "name": "ipython",
    "version": 2
   },
   "file_extension": ".py",
   "mimetype": "text/x-python",
   "name": "python",
   "nbconvert_exporter": "python",
   "pygments_lexer": "ipython2",
   "version": "2.7.11"
  }
 },
 "nbformat": 4,
 "nbformat_minor": 1
}
