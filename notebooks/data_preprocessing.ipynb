{
 "cells": [
  {
   "cell_type": "markdown",
   "metadata": {},
   "source": [
    "# Data Preprocessing\n",
    "\n",
    "Joeri R. Hermans                    \n",
    "*Departement of Data Science & Knowledge Engineering*          \n",
    "*Maastricht University, The Netherlands*                \n",
    "\n",
    "In this notebook we mainly deal with the preprocessing of the physics datasets that have been handed to us. We prepare them in such a way that they are ready for ML problems. Furthermore, in order to have complete information at a later stage, we maintain the \"old\" information as well. This includes all the extracted parameters of the tracks that have been reconstructed by offline software."
   ]
  },
  {
   "cell_type": "code",
   "execution_count": 1,
   "metadata": {
    "collapsed": false
   },
   "outputs": [
    {
     "name": "stderr",
     "output_type": "stream",
     "text": [
      "Using TensorFlow backend.\n"
     ]
    }
   ],
   "source": [
    "%matplotlib inline\n",
    "\n",
    "import matplotlib.mlab as mlab\n",
    "import matplotlib.pyplot as plt\n",
    "\n",
    "import numpy as np\n",
    "\n",
    "from pyspark import SparkContext\n",
    "from pyspark import SparkConf\n",
    "\n",
    "from pyspark.sql import Row\n",
    "\n",
    "from distkeras.utils import *\n",
    "from distkeras.transformers import *\n",
    "\n",
    "# Use the DataBricks CSV reader, this has some nice functionality regarding invalid values.\n",
    "os.environ['PYSPARK_SUBMIT_ARGS'] = '--packages com.databricks:spark-csv_2.10:1.4.0,com.databricks:spark-avro_2.11:3.2.0 pyspark-shell'"
   ]
  },
  {
   "cell_type": "code",
   "execution_count": 2,
   "metadata": {
    "collapsed": false
   },
   "outputs": [
    {
     "name": "stdout",
     "output_type": "stream",
     "text": [
      "Number of desired executors: 20\n",
      "Number of desired processes / executor: 4\n",
      "Total number of workers: 80\n"
     ]
    }
   ],
   "source": [
    "# Modify these variables according to your needs.\n",
    "application_name = \"CMS Event Preprocessing\"\n",
    "using_spark_2 = False\n",
    "local = False\n",
    "path_data = \"data/events.csv\"\n",
    "if local:\n",
    "    # Tell master to use local resources.\n",
    "    master = \"local[*]\"\n",
    "    num_processes = 3\n",
    "    num_executors = 1\n",
    "else:\n",
    "    # Tell master to use YARN.\n",
    "    master = \"yarn-client\"\n",
    "    num_executors = 20\n",
    "    num_processes = 4\n",
    "\n",
    "# This variable is derived from the number of cores and executors,\n",
    "# and will be used to assign the number of model trainers.\n",
    "num_workers = num_executors * num_processes\n",
    "\n",
    "print(\"Number of desired executors: \" + `num_executors`)\n",
    "print(\"Number of desired processes / executor: \" + `num_processes`)\n",
    "print(\"Total number of workers: \" + `num_workers`)"
   ]
  },
  {
   "cell_type": "code",
   "execution_count": 3,
   "metadata": {
    "collapsed": false
   },
   "outputs": [],
   "source": [
    "# Do not change anything here.\n",
    "conf = SparkConf()\n",
    "conf.set(\"spark.app.name\", application_name)\n",
    "conf.set(\"spark.master\", master)\n",
    "conf.set(\"spark.executor.cores\", `num_processes`)\n",
    "conf.set(\"spark.executor.instances\", `num_executors`)\n",
    "conf.set(\"spark.executor.memory\", \"5g\")\n",
    "conf.set(\"spark.locality.wait\", \"0\")\n",
    "conf.set(\"spark.serializer\", \"org.apache.spark.serializer.KryoSerializer\")\n",
    "conf.set(\"spark.kryoserializer.buffer.max.mb\", \"2000\")\n",
    "#conf.set(\"spark.executor.heartbeatInterval\", \"3600s\")\n",
    "conf.set(\"spark.akka.frameSize\", \"128\")\n",
    "#conf.set(\"spark.akka.timeout\", \"200s\")\n",
    "#conf.set(\"spark.akka.heartbeat.interval\", \"60s\")\n",
    "conf.set(\"spark.shuffle.spill\",\"true\")\n",
    "conf.set(\"spark.driver.memory\", \"7g\")\n",
    "\n",
    "# Check if the user is running Spark 2.0 +\n",
    "if using_spark_2:\n",
    "    sc = SparkSession.builder.config(conf=conf) \\\n",
    "                     .appName(application_name) \\\n",
    "                     .getOrCreate()\n",
    "else:\n",
    "    # Create the Spark context.\n",
    "    sc = SparkContext(conf=conf)\n",
    "    # Add the missing imports\n",
    "    from pyspark import SQLContext\n",
    "    sqlContext = SQLContext(sc)"
   ]
  },
  {
   "cell_type": "code",
   "execution_count": 4,
   "metadata": {
    "collapsed": false
   },
   "outputs": [
    {
     "name": "stdout",
     "output_type": "stream",
     "text": [
      "Total number of tracks: 1747413\n"
     ]
    }
   ],
   "source": [
    "# Check if we are using Spark 2.0\n",
    "if using_spark_2:\n",
    "    reader = sc\n",
    "else:\n",
    "    reader = sqlContext\n",
    "# Read the dataset.\n",
    "dataset = reader.read.format('com.databricks.spark.csv') \\\n",
    "                .options(header='true', inferSchema='true') \\\n",
    "                .load(path_data)\n",
    "# Remove the empty column name.\n",
    "columns = dataset.columns\n",
    "del columns[0]\n",
    "dataset = dataset.select(columns)\n",
    "# Repartition the dataset.\n",
    "dataset = dataset.repartition(num_workers)\n",
    "dataset.cache()\n",
    "\n",
    "# Count the total number of events.\n",
    "print(\"Total number of tracks: \" + str(dataset.count()))"
   ]
  },
  {
   "cell_type": "code",
   "execution_count": 5,
   "metadata": {
    "collapsed": false
   },
   "outputs": [
    {
     "name": "stdout",
     "output_type": "stream",
     "text": [
      "Labels: {u'RSGravitonToGaGa': 3, u'PhiToMuMu': 4, u'Wjet': 0, u'H125GGgluonfusion': 5, u'DisplacedSUSY_stopToBottom': 2, u'SMS-T1tttt_mGl': 1}\n",
      "Number of labels: 6\n"
     ]
    }
   ],
   "source": [
    "# Fetch the number of different event labels.\n",
    "distinct_labels = dataset.select(dataset.label).distinct()\n",
    "distinct_labels.cache()\n",
    "raw_labels = distinct_labels.collect()\n",
    "num_labels = distinct_labels.count()\n",
    "labels = {}\n",
    "for i in range(0, len(raw_labels)):\n",
    "    label = raw_labels[i]['label']\n",
    "    labels[label] = i\n",
    "\n",
    "print(\"Labels: \" + str(labels))\n",
    "print(\"Number of labels: \" + str(num_labels))"
   ]
  },
  {
   "cell_type": "code",
   "execution_count": 6,
   "metadata": {
    "collapsed": false
   },
   "outputs": [
    {
     "name": "stdout",
     "output_type": "stream",
     "text": [
      "Number of collisions with tracks: 16358\n"
     ]
    }
   ],
   "source": [
    "def construct_keys(row):\n",
    "    run = row['run']\n",
    "    event = row['evt']\n",
    "    luminosity = row['lumi']\n",
    "    key = str(run) + '-' + str(event) + '-' + str(luminosity)\n",
    "    \n",
    "    return Row(**{'id': key, 'tracks': [row]})\n",
    "\n",
    "track_keys = dataset.map(construct_keys)\n",
    "collision_tracks = track_keys.reduceByKey(lambda a, b: a + b).map(lambda x: Row(**{'id': x[0], 'tracks': x[1]})).toDF()\n",
    "collision_tracks.cache()\n",
    "print(\"Number of collisions with tracks: \" + str(collision_tracks.count()))"
   ]
  },
  {
   "cell_type": "markdown",
   "metadata": {},
   "source": [
    "The following cell defines a function which will obtain the particle hits from a track, as registered by the CMS detector. The columns which have a `pix` prefix are the hits extracted from the [silicon pixel detector](http://cms.web.cern.ch/news/silicon-pixels). Whereas the columns with a `sis` prefix are the particle hits extracted from the [silicon strips](http://cms.web.cern.ch/news/silicon-strips)."
   ]
  },
  {
   "cell_type": "code",
   "execution_count": 7,
   "metadata": {
    "collapsed": true
   },
   "outputs": [],
   "source": [
    "def obtain_hits(track):\n",
    "    hits = []\n",
    "    # Remove the pixel detector hits.\n",
    "    for i in range(0, 5):\n",
    "        column = \"pix_\" + str(i)\n",
    "        c_x = column + \"_x\"\n",
    "        x = track[c_x]\n",
    "        c_y = column + \"_y\"\n",
    "        y = track[c_y]\n",
    "        c_z = column + \"_z\"\n",
    "        z = track[c_z]\n",
    "        if x == 0.0 or y == 0.0 or z == 0.0:\n",
    "            break\n",
    "        hits.append([x, y, z])\n",
    "    # Remove the silicon detector hits.\n",
    "    for i in range(0, 50):\n",
    "        column = \"sis_\" + str(i)\n",
    "        c_x = column + \"_x\"\n",
    "        x = track[c_x]\n",
    "        c_y = column + \"_y\"\n",
    "        y = track[c_y]\n",
    "        c_z = column + \"_z\"\n",
    "        z = track[c_z]\n",
    "        if x == 0.0 or y == 0.0 or z == 0.0:\n",
    "            break\n",
    "        hits.append([x, y, z])\n",
    "    \n",
    "    return hits"
   ]
  },
  {
   "cell_type": "code",
   "execution_count": 8,
   "metadata": {
    "collapsed": true
   },
   "outputs": [],
   "source": [
    "def construct_feature_matrix_front(tracks):\n",
    "    # Define the front matrix with the specified granularity.\n",
    "    granularity = 1.0\n",
    "    unit = 1.0 / granularity\n",
    "    size_x = int((320.0 / granularity) + 1)\n",
    "    size_y = int((240.0 / granularity) + 1)\n",
    "    middle_x = size_x / 2 - 1\n",
    "    middle_y = size_y / 2 - 1\n",
    "    m = np.zeros((size_y, size_x))\n",
    "    # Add the tracks to the matrix.\n",
    "    for track in tracks:\n",
    "        hits = np.asarray(obtain_hits(track))\n",
    "        for hit in hits:\n",
    "            x = int((hit[0] * unit) + middle_x)\n",
    "            y = -int((hit[1] * unit) + middle_y)\n",
    "            m[y][x] += 1.0\n",
    "            \n",
    "    return m"
   ]
  },
  {
   "cell_type": "code",
   "execution_count": 9,
   "metadata": {
    "collapsed": true
   },
   "outputs": [],
   "source": [
    "def construct_feature_matrix_side(tracks):\n",
    "    # Define the side matrix with the specified granularity\n",
    "    granularity = 1.0\n",
    "    unit = 1.0 / granularity\n",
    "    size_x = int((600.0 / granularity) + 1)\n",
    "    size_y = int((300.0 / granularity) + 1)\n",
    "    middle_x = size_x / 2 - 1\n",
    "    middle_y = size_y / 2 - 1\n",
    "    m = np.zeros((size_y, size_x))\n",
    "    # Add the tracks to the matrix.\n",
    "    for track in tracks:\n",
    "        hits = np.asarray(obtain_hits(track))\n",
    "        for hit in hits:\n",
    "            x = int((hit[2] * unit) + middle_x)\n",
    "            y = -int((hit[1] * unit) + middle_y)\n",
    "            m[y][x] += 1.0\n",
    "    \n",
    "    return m"
   ]
  },
  {
   "cell_type": "code",
   "execution_count": 10,
   "metadata": {
    "collapsed": true
   },
   "outputs": [],
   "source": [
    "def construct_feature_matrix_volume(tracks):\n",
    "    # TODO Implement.\n",
    "    pass"
   ]
  },
  {
   "cell_type": "code",
   "execution_count": 11,
   "metadata": {
    "collapsed": true
   },
   "outputs": [],
   "source": [
    "def normalize_feature_matrix(x):\n",
    "    max_value = x.max()\n",
    "    \n",
    "    return np.divide(x, max_value)"
   ]
  },
  {
   "cell_type": "code",
   "execution_count": 13,
   "metadata": {
    "collapsed": false
   },
   "outputs": [],
   "source": [
    "def format_instances(x):\n",
    "    # Obtain the tracks.\n",
    "    tracks = x[1]\n",
    "    # Construct label vector.\n",
    "    label_vector = np.zeros(num_labels)\n",
    "    for track in tracks:\n",
    "        label = track['label']\n",
    "        index = labels[label]\n",
    "        label_vector[index] = 1.0\n",
    "    # Construct the front feature matrices.\n",
    "    front = construct_feature_matrix_front(tracks)\n",
    "    front_flat = front.flatten()\n",
    "    front_normalized = normalize_feature_matrix(front)\n",
    "    front_normalized_flat = front_normalized.flatten()\n",
    "    # Construct the side feature matrices.\n",
    "    side = construct_feature_matrix_side(tracks)\n",
    "    side_flat = side.flatten()\n",
    "    side_normalized = normalize_feature_matrix(side)\n",
    "    side_normalized_flat = side_normalized.flatten()\n",
    "    \n",
    "    # .tolist() for NumPy arrays to make Spark a happy program.\n",
    "    return Row(**{\"id\": x[0], \\\n",
    "                  \"front\": front.tolist(), \\\n",
    "                  \"front_flat\": front_flat.tolist(), \\\n",
    "                  \"front_normalized\": front_normalized.tolist(), \\\n",
    "                  \"front_normalized_flat\": front_normalized_flat.tolist(), \\\n",
    "                  \"side\": side.tolist(), \\\n",
    "                  \"side_flat\": side_flat.tolist(), \\\n",
    "                  \"side_normalized\": side_normalized.tolist(), \\\n",
    "                  \"side_normalized_flat\": side_normalized_flat.tolist(), \\\n",
    "                  \"label\": label_vector.tolist()})"
   ]
  },
  {
   "cell_type": "code",
   "execution_count": 14,
   "metadata": {
    "collapsed": true
   },
   "outputs": [],
   "source": [
    "def format_tracks(x):\n",
    "    run = x['run']\n",
    "    event = x['evt']\n",
    "    luminosity = x['lumi']\n",
    "    id = str(run) + \"-\" + str(event) + \"-\" + str(luminosity)\n",
    "    d = x.asDict()\n",
    "    d['collision_id'] = id\n",
    "    \n",
    "    return Row(**d)"
   ]
  },
  {
   "cell_type": "code",
   "execution_count": 15,
   "metadata": {
    "collapsed": false
   },
   "outputs": [],
   "source": [
    "# Write the tracks to HDFS for later use.\n",
    "df = dataset.map(format_tracks).toDF()\n",
    "df.write.format(\"com.databricks.spark.avro\").save(\"data/tracks.avro\")"
   ]
  },
  {
   "cell_type": "code",
   "execution_count": 16,
   "metadata": {
    "collapsed": false
   },
   "outputs": [],
   "source": [
    "# Construct the training data.\n",
    "df = collision_tracks.map(format_instances).toDF()\n",
    "# Obtain the matrix rows and columns of a feature matrix.\n",
    "matrix_rows_front, matrix_cols_front = np.asarray(df.take(1)[0]['front']).shape\n",
    "matrix_rows_side, matrix_cols_side = np.asarray(df.take(1)[0]['side']).shape\n",
    "# Next, prepare the dataset for the convolutional networks.\n",
    "rt_f = ReshapeTransformer(\"front\", \"front_reshaped\", (matrix_rows_front, matrix_cols_front, 1))\n",
    "rt_s = ReshapeTransformer(\"side\", \"side_reshaped\", (matrix_rows_side, matrix_cols_side, 1))\n",
    "df = rt_f.transform(df)\n",
    "df = rt_s.transform(df)\n",
    "# Write the dataframe to HDFS.\n",
    "df.write.format(\"com.databricks.spark.avro\").save(\"data/collisions.avro\")"
   ]
  },
  {
   "cell_type": "code",
   "execution_count": 17,
   "metadata": {
    "collapsed": false
   },
   "outputs": [],
   "source": [
    "def display_front_tracks(tracks):\n",
    "    num_tracks = len(tracks)\n",
    "    for i in range(0, num_tracks):\n",
    "        hits = np.asarray(obtain_hits(tracks[i]))\n",
    "        x = hits[:, 0]\n",
    "        y = hits[:, 1]\n",
    "        plt.scatter(x, y, 0.3)\n",
    "    plt.grid(False)\n",
    "    plt.xlim([-160, 160])\n",
    "    plt.ylim([-120, 120])\n",
    "    #plt.title(\"Front view CMS pixel and silicon detector\")\n",
    "    plt.show()\n",
    "\n",
    "def display_side_tracks(tracks):\n",
    "    num_tracks = len(tracks)\n",
    "    for i in range(0, num_tracks):\n",
    "        hits = np.asarray(obtain_hits(tracks[i]))\n",
    "        y = hits[:, 1]\n",
    "        z = hits[:, 2]\n",
    "        plt.scatter(z, y, 0.3)\n",
    "    plt.grid(False)\n",
    "    plt.xlim([-300, 300])\n",
    "    plt.ylim([-160, 160])\n",
    "    #plt.title(\"Side view CMS detector\")\n",
    "    plt.show()"
   ]
  },
  {
   "cell_type": "code",
   "execution_count": 18,
   "metadata": {
    "collapsed": false
   },
   "outputs": [
    {
     "data": {
      "text/plain": [
       "[Row(collision_id=u'1-1719-35')]"
      ]
     },
     "execution_count": 18,
     "metadata": {},
     "output_type": "execute_result"
    }
   ],
   "source": [
    "tracks = reader.read.format(\"com.databricks.spark.avro\").load(\"data/tracks.avro\")\n",
    "tracks.select(tracks.collision_id).take(1)"
   ]
  },
  {
   "cell_type": "code",
   "execution_count": 19,
   "metadata": {
    "collapsed": false
   },
   "outputs": [
    {
     "data": {
      "image/png": "[encoded data removed]",
      "text/plain": [
       "<matplotlib.figure.Figure at 0x7f1882a4bf10>"
      ]
     },
     "metadata": {},
     "output_type": "display_data"
    },
    {
     "data": {
      "image/png": "[encoded data removed]",
      "text/plain": [
       "<matplotlib.figure.Figure at 0x7f1872e8cc50>"
      ]
     },
     "metadata": {},
     "output_type": "display_data"
    }
   ],
   "source": [
    "collision_id = '1-6769-136'\n",
    "# Fetch the tracks from the specified collision id.\n",
    "examples = tracks.filter(tracks.collision_id == collision_id).collect()\n",
    "# View the hits of the front of the detector, and the side.\n",
    "display_front_tracks(examples)\n",
    "display_side_tracks(examples)"
   ]
  },
  {
   "cell_type": "code",
   "execution_count": 25,
   "metadata": {
    "collapsed": false
   },
   "outputs": [
    {
     "data": {
      "image/png": "[encoded data removed]",
      "text/plain": [
       "<matplotlib.figure.Figure at 0x7f185f6fcc90>"
      ]
     },
     "metadata": {},
     "output_type": "display_data"
    },
    {
     "data": {
      "image/png": "[encoded data removed]",
      "text/plain": [
       "<matplotlib.figure.Figure at 0x7f183bd05650>"
      ]
     },
     "metadata": {},
     "output_type": "display_data"
    }
   ],
   "source": [
    "# Plot the feature matrix with the same collision id.\n",
    "collisions = reader.read.format(\"com.databricks.spark.avro\").load(\"data/collisions.avro\")\n",
    "collision = collisions.filter(collisions.id == collision_id).collect()[0]\n",
    "m_front = np.asarray(collision['front'])\n",
    "m_side = np.asarray(collision['side'])\n",
    "# View front feature matrix.\n",
    "plt.imshow(m_front, cmap='plasma', interpolation='nearest')\n",
    "plt.show()\n",
    "# View side feature matrix.\n",
    "plt.imshow(m_side, cmap='plasma', interpolation='nearest')\n",
    "plt.show()"
   ]
  }
 ],
 "metadata": {
  "kernelspec": {
   "display_name": "Python 2",
   "language": "python",
   "name": "python2"
  },
  "language_info": {
   "codemirror_mode": {
    "name": "ipython",
    "version": 2
   },
   "file_extension": ".py",
   "mimetype": "text/x-python",
   "name": "python",
   "nbconvert_exporter": "python",
   "pygments_lexer": "ipython2",
   "version": "2.7.13"
  }
 },
 "nbformat": 4,
 "nbformat_minor": 2
}
