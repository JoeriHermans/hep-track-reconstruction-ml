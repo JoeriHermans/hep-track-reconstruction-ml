{
 "cells": [
  {
   "cell_type": "markdown",
   "metadata": {},
   "source": [
    "# Data Preprocessing\n",
    "\n",
    "Joeri R. Hermans                    \n",
    "*Departement of Data Science & Knowledge Engineering*          \n",
    "*Maastricht University, The Netherlands*           \n",
    "\n",
    "In this notebook we mainly deal with the preprocessing of the physics data that we processed into a more managable format in the Data Extraction notebook. We prepare them in such a way that they are ready for ML problems. Furthermore, in order to have complete information at a later stage, we maintain the \"old\" information as well. This includes all the extracted parameters of the tracks that have been reconstructed by offline software.\n",
    "\n",
    "## Cluster Configuration\n",
    "\n",
    "In the following sections, we set up the cluster properties in order to preprocess the tracks dataset."
   ]
  },
  {
   "cell_type": "code",
   "execution_count": 1,
   "metadata": {
    "collapsed": false
   },
   "outputs": [],
   "source": [
    "%matplotlib inline\n",
    "\n",
    "import numpy as np\n",
    "\n",
    "import os\n",
    "\n",
    "from pyspark import SparkContext\n",
    "from pyspark import SparkConf\n",
    "\n",
    "from pyspark.storagelevel import StorageLevel\n",
    "\n",
    "from pyspark.sql import Row\n",
    "from pyspark.sql.types import *\n",
    "\n",
    "import matplotlib.mlab as mlab\n",
    "import matplotlib.pyplot as plt\n",
    "\n",
    "# Use the DataBricks AVRO reader.\n",
    "os.environ['PYSPARK_SUBMIT_ARGS'] = '--packages com.databricks:spark-avro_2.11:3.2.0 pyspark-shell'"
   ]
  },
  {
   "cell_type": "code",
   "execution_count": 2,
   "metadata": {
    "collapsed": false
   },
   "outputs": [
    {
     "name": "stdout",
     "output_type": "stream",
     "text": [
      "Number of desired executors: 20\n",
      "Number of desired processes / executor: 4\n",
      "Total number of workers: 80\n"
     ]
    }
   ],
   "source": [
    "# Modify these variables according to your needs.\n",
    "application_name = \"CMS Track Preprocessing\"\n",
    "using_spark_2 = False\n",
    "local = False\n",
    "path_data = \"data/tracks.avro\"\n",
    "\n",
    "if local:\n",
    "    # Tell master to use local resources.\n",
    "    master = \"local[*]\"\n",
    "    num_processes = 3\n",
    "    num_executors = 1\n",
    "else:\n",
    "    # Tell master to use YARN.\n",
    "    master = \"yarn-client\"\n",
    "    num_executors = 20\n",
    "    num_processes = 4\n",
    "\n",
    "# This variable is derived from the number of cores and executors,\n",
    "# and will be used to assign the number of model trainers.\n",
    "num_workers = num_executors * num_processes\n",
    "\n",
    "print(\"Number of desired executors: \" + `num_executors`)\n",
    "print(\"Number of desired processes / executor: \" + `num_processes`)\n",
    "print(\"Total number of workers: \" + `num_workers`)"
   ]
  },
  {
   "cell_type": "code",
   "execution_count": 3,
   "metadata": {
    "collapsed": true
   },
   "outputs": [],
   "source": [
    "# Do not change anything here.\n",
    "conf = SparkConf()\n",
    "conf.set(\"spark.app.name\", application_name)\n",
    "conf.set(\"spark.master\", master)\n",
    "conf.set(\"spark.executor.cores\", `num_processes`)\n",
    "conf.set(\"spark.executor.instances\", `num_executors`)\n",
    "conf.set(\"spark.executor.memory\", \"5g\")\n",
    "conf.set(\"spark.serializer\", \"org.apache.spark.serializer.KryoSerializer\")\n",
    "conf.set(\"spark.kryoserializer.buffer.max\", \"2000\")\n",
    "conf.set(\"spark.executor.heartbeatInterval\", \"6000s\")\n",
    "conf.set(\"spark.network.timeout\", \"1000000s\")\n",
    "conf.set(\"spark.shuffle.spill\", \"true\")\n",
    "conf.set(\"spark.driver.memory\", \"5g\")\n",
    "\n",
    "# Check if the user is running Spark 2.0 +\n",
    "if using_spark_2:\n",
    "    sc = SparkSession.builder.config(conf=conf) \\\n",
    "                     .appName(application_name) \\\n",
    "                     .getOrCreate()\n",
    "else:\n",
    "    # Create the Spark context.\n",
    "    sc = SparkContext(conf=conf)\n",
    "    # Add the missing imports\n",
    "    from pyspark import SQLContext\n",
    "    sqlContext = SQLContext(sc)\n",
    "\n",
    "# Check if we are using Spark 2.0\n",
    "if using_spark_2:\n",
    "    reader = sc\n",
    "    s = sc\n",
    "else:\n",
    "    reader = sqlContext\n",
    "    s = sqlContext"
   ]
  },
  {
   "cell_type": "markdown",
   "metadata": {},
   "source": [
    "## Data preperation"
   ]
  },
  {
   "cell_type": "markdown",
   "metadata": {},
   "source": [
    "Now we'll read the tracks dataset, and count the number of tracks. This action will cause the data to be precached on the different nodes. Thus, making our data mapping functions faster."
   ]
  },
  {
   "cell_type": "code",
   "execution_count": 4,
   "metadata": {
    "collapsed": false
   },
   "outputs": [
    {
     "name": "stdout",
     "output_type": "stream",
     "text": [
      "Number of tracks: 24350041\n"
     ]
    }
   ],
   "source": [
    "# Read the dataset.\n",
    "dataset = reader.read.format(\"com.databricks.spark.avro\").load(\"data/tracks.avro\")\n",
    "\n",
    "print(\"Number of tracks: \" + str(dataset.count()))"
   ]
  },
  {
   "cell_type": "markdown",
   "metadata": {
    "collapsed": true
   },
   "source": [
    "This gives us the total number of tracks within our datafile. However, a collision is defined as **run**, **event**, and **luminosity**. As a result, we have to group all tracks which share these properties to form a collision."
   ]
  },
  {
   "cell_type": "code",
   "execution_count": 5,
   "metadata": {
    "collapsed": false
   },
   "outputs": [
    {
     "name": "stdout",
     "output_type": "stream",
     "text": [
      "root\n",
      " |-- track_id: integer (nullable = false)\n",
      " |-- run: integer (nullable = false)\n",
      " |-- event: integer (nullable = false)\n",
      " |-- luminosity: integer (nullable = false)\n",
      " |-- track_type: string (nullable = false)\n",
      " |-- charge: integer (nullable = false)\n",
      " |-- ndof: integer (nullable = false)\n",
      " |-- qoverp: double (nullable = false)\n",
      " |-- theta: double (nullable = false)\n",
      " |-- dxy: double (nullable = false)\n",
      " |-- d0: double (nullable = false)\n",
      " |-- dsz: double (nullable = false)\n",
      " |-- dz: double (nullable = false)\n",
      " |-- p: double (nullable = false)\n",
      " |-- pt: double (nullable = false)\n",
      " |-- px: double (nullable = false)\n",
      " |-- py: double (nullable = false)\n",
      " |-- pz: double (nullable = false)\n",
      " |-- eta: double (nullable = false)\n",
      " |-- phi: double (nullable = false)\n",
      " |-- vx: double (nullable = false)\n",
      " |-- vy: double (nullable = false)\n",
      " |-- vz: double (nullable = false)\n",
      " |-- num_background_hits: integer (nullable = false)\n",
      " |-- num_track_hits: integer (nullable = false)\n",
      " |-- background_hits: array (nullable = false)\n",
      " |    |-- element: struct (containsNull = false)\n",
      " |    |    |-- x: double (nullable = false)\n",
      " |    |    |-- y: double (nullable = false)\n",
      " |    |    |-- z: double (nullable = false)\n",
      " |-- track_hits: array (nullable = false)\n",
      " |    |-- element: struct (containsNull = false)\n",
      " |    |    |-- x: double (nullable = false)\n",
      " |    |    |-- y: double (nullable = false)\n",
      " |    |    |-- z: double (nullable = false)\n",
      "\n"
     ]
    }
   ],
   "source": [
    "dataset.printSchema()"
   ]
  },
  {
   "cell_type": "markdown",
   "metadata": {},
   "source": [
    "In order to preserve information, we would like to know which track types are produced within a collision. For this, we will allocate an array of track types for every collision that is produced.\n",
    "\n",
    "Furthermore, to make our lives easier, we will construct a collision-id for every collision. This will be in the form of \"run-event-luminosity\"."
   ]
  },
  {
   "cell_type": "code",
   "execution_count": 6,
   "metadata": {
    "collapsed": false
   },
   "outputs": [
    {
     "name": "stdout",
     "output_type": "stream",
     "text": [
      "root\n",
      " |-- track_id: integer (nullable = false)\n",
      " |-- run: integer (nullable = false)\n",
      " |-- event: integer (nullable = false)\n",
      " |-- luminosity: integer (nullable = false)\n",
      " |-- track_type: string (nullable = false)\n",
      " |-- charge: integer (nullable = false)\n",
      " |-- ndof: integer (nullable = false)\n",
      " |-- qoverp: double (nullable = false)\n",
      " |-- theta: double (nullable = false)\n",
      " |-- dxy: double (nullable = false)\n",
      " |-- d0: double (nullable = false)\n",
      " |-- dsz: double (nullable = false)\n",
      " |-- dz: double (nullable = false)\n",
      " |-- p: double (nullable = false)\n",
      " |-- pt: double (nullable = false)\n",
      " |-- px: double (nullable = false)\n",
      " |-- py: double (nullable = false)\n",
      " |-- pz: double (nullable = false)\n",
      " |-- eta: double (nullable = false)\n",
      " |-- phi: double (nullable = false)\n",
      " |-- vx: double (nullable = false)\n",
      " |-- vy: double (nullable = false)\n",
      " |-- vz: double (nullable = false)\n",
      " |-- num_background_hits: integer (nullable = false)\n",
      " |-- num_track_hits: integer (nullable = false)\n",
      " |-- background_hits: array (nullable = false)\n",
      " |    |-- element: struct (containsNull = false)\n",
      " |    |    |-- x: double (nullable = false)\n",
      " |    |    |-- y: double (nullable = false)\n",
      " |    |    |-- z: double (nullable = false)\n",
      " |-- track_hits: array (nullable = false)\n",
      " |    |-- element: struct (containsNull = false)\n",
      " |    |    |-- x: double (nullable = false)\n",
      " |    |    |-- y: double (nullable = false)\n",
      " |    |    |-- z: double (nullable = false)\n",
      " |-- collision_id: string (nullable = false)\n",
      "\n"
     ]
    }
   ],
   "source": [
    "def new_dataframe_row(old_row, column_name, column_value):\n",
    "    \"\"\"Constructs a new Spark Row based on the old row, and a new column name and value.\"\"\"\n",
    "    row = Row(*(old_row.__fields__ + [column_name]))(*(old_row + (column_value, )))\n",
    "\n",
    "    return row\n",
    "\n",
    "def construct_keys(row):\n",
    "    run = row['run']\n",
    "    event = row['event']\n",
    "    luminosity = row['luminosity']\n",
    "    id = str(run) + \"-\" + str(event) + \"-\" + str(luminosity)\n",
    "   \n",
    "    return new_dataframe_row(row, \"collision_id\", id)\n",
    "\n",
    "schema = dataset.schema\n",
    "tracks_rdd = dataset.map(construct_keys)\n",
    "schema.add(StructField(\"collision_id\", StringType(), False))\n",
    "tracks = s.createDataFrame(tracks_rdd, schema)\n",
    "tracks.persist(StorageLevel.MEMORY_AND_DISK)\n",
    "tracks.printSchema()"
   ]
  },
  {
   "cell_type": "markdown",
   "metadata": {
    "collapsed": true
   },
   "source": [
    "As can been seen in the schema shown above, every track now has a `collsion_id`. Using this collision id, we can group all tracks to produce the collisions."
   ]
  },
  {
   "cell_type": "code",
   "execution_count": 7,
   "metadata": {
    "collapsed": false
   },
   "outputs": [
    {
     "data": {
      "text/plain": [
       "PythonRDD[30] at RDD at PythonRDD.scala:43"
      ]
     },
     "execution_count": 7,
     "metadata": {},
     "output_type": "execute_result"
    }
   ],
   "source": [
    "def prepare_reduce(row):\n",
    "    collision_id = row['collision_id']\n",
    "    \n",
    "    return Row(**{'id': collision_id, 'tracks': [row]})\n",
    "\n",
    "collisions = tracks.map(prepare_reduce)\n",
    "collisions.persist(StorageLevel.MEMORY_AND_DISK)"
   ]
  },
  {
   "cell_type": "code",
   "execution_count": 8,
   "metadata": {
    "collapsed": false
   },
   "outputs": [
    {
     "data": {
      "text/plain": [
       "PythonRDD[35] at RDD at PythonRDD.scala:43"
      ]
     },
     "execution_count": 8,
     "metadata": {},
     "output_type": "execute_result"
    }
   ],
   "source": [
    "collisions = collisions.reduceByKey(lambda a, b: a + b)\n",
    "collisions.persist(StorageLevel.MEMORY_AND_DISK)"
   ]
  },
  {
   "cell_type": "code",
   "execution_count": 9,
   "metadata": {
    "collapsed": false
   },
   "outputs": [
    {
     "name": "stdout",
     "output_type": "stream",
     "text": [
      "Number of collisions: 22308\n"
     ]
    }
   ],
   "source": [
    "print(\"Number of collisions: \" + str(collisions.count()))"
   ]
  },
  {
   "cell_type": "code",
   "execution_count": 10,
   "metadata": {
    "collapsed": false
   },
   "outputs": [],
   "source": [
    "import copy\n",
    "\n",
    "# Before storing the collisions dataset, we first need to specify the schema.\n",
    "track_schema = copy.deepcopy(tracks.schema)\n",
    "# The collisions dataset is structured as follows: id(int), tracks(array[track_schema]).\n",
    "collisions_schema = StructType([StructField(\"id\", StringType(), False),\n",
    "                                StructField(\"tracks\", ArrayType(track_schema), False)])"
   ]
  },
  {
   "cell_type": "code",
   "execution_count": 11,
   "metadata": {
    "collapsed": false
   },
   "outputs": [],
   "source": [
    "# Construct the collisions dataframe from the specified schema.\n",
    "collisions_df = s.createDataFrame(collisions, collisions_schema)\n",
    "# Save the collisions dataset for future use.\n",
    "collisions_df.write.format(\"com.databricks.spark.avro\").save(\"data/collisions.avro\")"
   ]
  },
  {
   "cell_type": "code",
   "execution_count": 12,
   "metadata": {
    "collapsed": false
   },
   "outputs": [
    {
     "data": {
      "text/plain": [
       "DataFrame[id: string, tracks: array<struct<track_id:int,run:int,event:int,luminosity:int,track_type:string,charge:int,ndof:int,qoverp:double,theta:double,dxy:double,d0:double,dsz:double,dz:double,p:double,pt:double,px:double,py:double,pz:double,eta:double,phi:double,vx:double,vy:double,vz:double,num_background_hits:int,num_track_hits:int,background_hits:array<struct<x:double,y:double,z:double>>,track_hits:array<struct<x:double,y:double,z:double>>,collision_id:string>>]"
      ]
     },
     "execution_count": 12,
     "metadata": {},
     "output_type": "execute_result"
    }
   ],
   "source": [
    "# Cleanup the old dataframes.\n",
    "dataset.unpersist()\n",
    "tracks.unpersist()\n",
    "collisions_df.unpersist()\n",
    "# Read the collisions from disk as a starting point for future actions.\n",
    "collisions = reader.read.format(\"com.databricks.spark.avro\").load(\"data/collisions.avro\")\n",
    "collisions.persist(StorageLevel.MEMORY_AND_DISK)"
   ]
  },
  {
   "cell_type": "markdown",
   "metadata": {},
   "source": [
    "## Utility Functions\n",
    "\n",
    "In this Section I will define some utility functions which we will use throughout this notebook."
   ]
  },
  {
   "cell_type": "code",
   "execution_count": 4,
   "metadata": {
    "collapsed": true
   },
   "outputs": [],
   "source": [
    "def construct_feature_matrix_front(tracks, background=False):\n",
    "    # Define the front matrix with the specified granularity.\n",
    "    granularity = 1.0\n",
    "    unit = 1.0 / granularity\n",
    "    size_x = int((320.0 / granularity) + 1)\n",
    "    size_y = int((240.0 / granularity) + 1)\n",
    "    middle_x = size_x / 2 - 1\n",
    "    middle_y = size_y / 2 - 1\n",
    "    m = np.zeros((size_y, size_x))\n",
    "    hits = []\n",
    "    # Obtain the hits.\n",
    "    for track in tracks:\n",
    "        # Add the track hits.\n",
    "        hits.extend([x for x in track['track_hits']])\n",
    "        # Check if the background hits need to be added.\n",
    "        if background:\n",
    "            # Add the background hits.\n",
    "            hits.extend([x for x in track['background_hits']])\n",
    "    # Add the tracks to the matrix.\n",
    "    for hit in hits:\n",
    "        x = int((hit['x'] * unit) + middle_x)\n",
    "        y = -int((hit['y'] * unit) + middle_y)\n",
    "        m[y][x] += 1.0\n",
    "            \n",
    "    return m"
   ]
  },
  {
   "cell_type": "code",
   "execution_count": 5,
   "metadata": {
    "collapsed": true
   },
   "outputs": [],
   "source": [
    "def construct_feature_matrix_side(tracks, background=False):\n",
    "    # Define the side matrix with the specified granularity\n",
    "    granularity = 1.0\n",
    "    unit = 1.0 / granularity\n",
    "    size_x = int((600.0 / granularity) + 1)\n",
    "    size_y = int((300.0 / granularity) + 1)\n",
    "    middle_x = size_x / 2 - 1\n",
    "    middle_y = size_y / 2 - 1\n",
    "    m = np.zeros((size_y, size_x))\n",
    "    hits = []\n",
    "    # Obtain the hits.\n",
    "    for track in tracks:\n",
    "        # Add the track hits.\n",
    "        hits.extend([x for x in track['track_hits']])\n",
    "        # Check if the background hits need to be added.\n",
    "        if background:\n",
    "            # Add the background hits.\n",
    "            hits.extend([x for x in track['background_hits']])\n",
    "    # Add the tracks to the matrix.\n",
    "    for hit in hits:\n",
    "        z = int((hit['z'] * unit) + middle_x)\n",
    "        y = -int((hit['y'] * unit) + middle_y)\n",
    "        m[y][z] += 1.0\n",
    "    \n",
    "    return m"
   ]
  },
  {
   "cell_type": "code",
   "execution_count": 6,
   "metadata": {
    "collapsed": true
   },
   "outputs": [],
   "source": [
    "def plot_matrix(m):\n",
    "    plt.imshow(m, cmap='plasma', interpolation='nearest')\n",
    "    plt.show()"
   ]
  },
  {
   "cell_type": "markdown",
   "metadata": {},
   "source": [
    "## Machine Learning Preprocessing"
   ]
  },
  {
   "cell_type": "markdown",
   "metadata": {},
   "source": [
    "At this point we have a dataset which is ready to be preprocessed for Machine Learning problems. For every collision, we have the reconstructed tracks, the background hits, and the track parameters. Depending on the application, the data needs to be processed in a particular way. This will happen in the following sections."
   ]
  },
  {
   "cell_type": "markdown",
   "metadata": {},
   "source": [
    "### Autoencoder\n",
    "\n",
    "In essence, an autoencoder tries the obtain a parametrization in such a way that it is able to produce $f(x) = x$. This has some interesting properties in the case that the dimensionality of the hidden layer is actually lower then the number of inputs. Intuitively, one could say that the autoencoder obtains a compression of the data, thereby reducing the dimensionality of the input problem. An other application of autoencoders is so called *de-noising*, these neural networks are called *de-noising autoencoders*. This could be of particular interest to our application, give some collision with background $x'$, find $x$. Mathematically: $h(x') = x$.\n",
    "\n",
    "In a first stage, we would like to obtain this exact identiy function of the CMS detector. For this, we need to convert the tracks to a format which neural networks might be able to process (e.g., matrices). This is done by generating a feature matrix of the front and the side. Note that at a later stage we would like to try a full 3 dimensional feature matrix. However, in order to reduce the dimensionality of the problem, lets try a 2 dimensional approach first.\n",
    "\n",
    "For a particular collision, the feature matrices will look like this:\n",
    "\n",
    "**Note**: A higher intensity means this that part of the detector was activated by more particle tracks. "
   ]
  },
  {
   "cell_type": "code",
   "execution_count": 26,
   "metadata": {
    "collapsed": false
   },
   "outputs": [
    {
     "data": {
      "image/png": "[encoded data removed]",
      "text/plain": [
       "<matplotlib.figure.Figure at 0x7fbc0866f290>"
      ]
     },
     "metadata": {},
     "output_type": "display_data"
    },
    {
     "data": {
      "image/png": "[encoded data removed]",
      "text/plain": [
       "<matplotlib.figure.Figure at 0x7fbc0866f090>"
      ]
     },
     "metadata": {},
     "output_type": "display_data"
    }
   ],
   "source": [
    "c = collisions.take(1)[0]\n",
    "# Obtain the front feature matrix, exclude background hits.\n",
    "m_f = construct_feature_matrix_front(c['tracks'], background=False)\n",
    "m_s = construct_feature_matrix_side(c['tracks'], background=False)\n",
    "# Plot the matrices.\n",
    "plot_matrix(m_f)\n",
    "plot_matrix(m_s)"
   ]
  },
  {
   "cell_type": "code",
   "execution_count": 33,
   "metadata": {
    "collapsed": false
   },
   "outputs": [
    {
     "name": "stdout",
     "output_type": "stream",
     "text": [
      "root\n",
      " |-- collision_id: string (nullable = true)\n",
      " |-- front: array (nullable = true)\n",
      " |    |-- element: array (containsNull = true)\n",
      " |    |    |-- element: double (containsNull = true)\n",
      " |-- side: array (nullable = true)\n",
      " |    |-- element: array (containsNull = true)\n",
      " |    |    |-- element: double (containsNull = true)\n",
      "\n"
     ]
    }
   ],
   "source": [
    "def construct_feature_matrices(collision):\n",
    "    # Obtain the tracks from the collision.\n",
    "    tracks = collision['tracks']\n",
    "    # Obtain the collision id.\n",
    "    collision_id = collision['id']\n",
    "    # Construct the front and side feature matrices.\n",
    "    m_f = construct_feature_matrix_front(tracks, background=False)\n",
    "    m_s = construct_feature_matrix_side(tracks, background=False)\n",
    "    \n",
    "    return Row(**{'collision_id': collision_id, 'front': m_f.tolist(), 'side': m_s.tolist()})\n",
    "\n",
    "feature_matrices = collisions.map(construct_feature_matrices).toDF()\n",
    "feature_matrices.printSchema()\n",
    "feature_matrices.write.format(\"com.databricks.spark.avro\").save(\"data/collisions_feature_matrices.avro\")"
   ]
  },
  {
   "cell_type": "markdown",
   "metadata": {},
   "source": [
    "Nevertheless, most machine learning problems have a better convergence rate when the data is normalized. This is because they in such cases don't have to deal (and correct) for large values. As a result, we perform normalization of our feature matrices as well. All feature matrices will be normalized within the range [0,1].\n",
    "\n",
    "Furthermore, the way we apply normalization to these feature matrices is also important. In the case of images, normalization is quite trivial since the pixel-sensor's maximum value is constrainted by 255 (0xff). However, this is not the case in our problem. Multiple particle tracks can pass through a single part of the detector at the same time. An initial approach would be to normalize the data with respect to the maximum value of a matrix. But this would give a \"wrong impression\" to the classifier / regressor since in low-saturated vs highly-saturated environments this would mean that they have the same importance, while this is truly not the case. An additonal approach would be to obtain the max value over all matrices (with some additonal margin), and normalize the matrices with respect to that value. But then again, then we *assume* some maximum. Personally, I would go with the latter approach in this particular case."
   ]
  },
  {
   "cell_type": "code",
   "execution_count": 44,
   "metadata": {
    "collapsed": false
   },
   "outputs": [
    {
     "name": "stdout",
     "output_type": "stream",
     "text": [
      "Maximum of the front feature matrix: 170.0\n",
      "Maximum of the side feature matrix: 139.0\n"
     ]
    }
   ],
   "source": [
    "def feature_matrix_max(row):\n",
    "    # Obtain the feature matrices.\n",
    "    m_f = np.asarray(row['front'])\n",
    "    m_s = np.asarray(row['side'])\n",
    "    # Obtain the max value of all feature matrices.\n",
    "    max_f = float(m_f.max())\n",
    "    max_s = float(m_s.max())\n",
    "    \n",
    "    return Row(**{\"max_front\": max_f, \"max_side\": max_s})\n",
    "    \n",
    "\n",
    "features_max = feature_matrices.map(feature_matrix_max).toDF()\n",
    "max = features_max.agg({\"max_front\": \"max\", \"max_side\": \"max\"}).collect()[0]\n",
    "\n",
    "max_front = max['max(max_front)']\n",
    "max_side = max['max(max_side)']\n",
    "\n",
    "print(\"Maximum of the front feature matrix: \" + str(max_front))\n",
    "print(\"Maximum of the side feature matrix: \" + str(max_side))"
   ]
  },
  {
   "cell_type": "markdown",
   "metadata": {},
   "source": [
    "From this we can safely assume (with some margin) that we can normalize the feature matrices by 200. So every pixel in the feature matrix will be normalized with respect to 200."
   ]
  },
  {
   "cell_type": "code",
   "execution_count": 45,
   "metadata": {
    "collapsed": true
   },
   "outputs": [],
   "source": [
    "def normalize(row):\n",
    "    # Obtain the collision id.\n",
    "    collision_id = row['collision_id']\n",
    "    # Set the normalizer.\n",
    "    normalizer = 200.0\n",
    "    # Obtain the feature matrices.\n",
    "    m_f = np.asarray(row['front'])\n",
    "    m_s = np.asarray(row['side'])\n",
    "    # Normalize the feature matrices.\n",
    "    m_f = np.divide(m_f, normalizer)\n",
    "    m_s = np.divide(m_s, normalizer)\n",
    "    \n",
    "    return Row(**{'collision_id': collision_id, 'front': m_f.tolist(), 'side': m_s.tolist()})\n",
    "\n",
    "feature_matrices_normalized = feature_matrices.map(normalize).toDF()\n",
    "feature_matrices_normalized.write.format(\"com.databricks.spark.avro\") \\\n",
    "                           .save(\"data/collisions_feature_matrices_normalized.avro\")"
   ]
  },
  {
   "cell_type": "markdown",
   "metadata": {},
   "source": [
    "However, other techniques apply batch normalization. This basically means that you normalize the instance with respect to a batch of figures. Nevertheless, in our case the batch size is 1. This implies that we normalize the instances with respect to their maximum."
   ]
  },
  {
   "cell_type": "code",
   "execution_count": 8,
   "metadata": {
    "collapsed": true
   },
   "outputs": [],
   "source": [
    "def normalize(row):\n",
    "    # Obtain the collision id.\n",
    "    collision_id = row['collision_id']\n",
    "    # Obtain the feature matrices.\n",
    "    m_f = np.asarray(row['front'])\n",
    "    m_s = np.asarray(row['side'])\n",
    "    # Obtain the max of both feature matrices.\n",
    "    max_f = m_f.max()\n",
    "    max_s = m_s.max()\n",
    "    # Normalize the feature matrices.\n",
    "    m_f = np.divide(m_f, max_f)\n",
    "    m_s = np.divide(m_s, max_s)\n",
    "    \n",
    "    return Row(**{'collision_id': collision_id, 'front': m_f.tolist(), 'side': m_s.tolist()})\n",
    "\n",
    "feature_matrices_batch_normalized = feature_matrices.map(normalize).toDF()\n",
    "feature_matrices_batch_normalized.write.format(\"com.databricks.spark.avro\") \\\n",
    "                                 .save(\"data/collisions_feature_matrices_batch_normalized.avro\")"
   ]
  }
 ],
 "metadata": {
  "kernelspec": {
   "display_name": "Python 2",
   "language": "python",
   "name": "python2"
  },
  "language_info": {
   "codemirror_mode": {
    "name": "ipython",
    "version": 2
   },
   "file_extension": ".py",
   "mimetype": "text/x-python",
   "name": "python",
   "nbconvert_exporter": "python",
   "pygments_lexer": "ipython2",
   "version": "2.7.13"
  }
 },
 "nbformat": 4,
 "nbformat_minor": 2
}
