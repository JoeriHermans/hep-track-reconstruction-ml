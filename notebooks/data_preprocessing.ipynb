{
 "cells": [
  {
   "cell_type": "markdown",
   "metadata": {},
   "source": [
    "# Data Preprocessing\n",
    "\n",
    "Joeri R. Hermans                    \n",
    "*Departement of Data Science & Knowledge Engineering*          \n",
    "*Maastricht University, The Netherlands*                \n",
    "\n",
    "In this notebook we mainly deal with the preprocessing of the physics datasets that have been handed to us. We prepare them in such a way that they are ready for ML problems. Furthermore, in order to have complete information at a later stage, we maintain the \"old\" information as well. This includes all the extracted parameters of the tracks that have been reconstructed by offline software."
   ]
  },
  {
   "cell_type": "code",
   "execution_count": 1,
   "metadata": {
    "collapsed": false
   },
   "outputs": [
    {
     "name": "stderr",
     "output_type": "stream",
     "text": [
      "Using TensorFlow backend.\n"
     ]
    }
   ],
   "source": [
    "%matplotlib inline\n",
    "\n",
    "import matplotlib.mlab as mlab\n",
    "import matplotlib.pyplot as plt\n",
    "\n",
    "import numpy as np\n",
    "\n",
    "from pyspark import SparkContext\n",
    "from pyspark import SparkConf\n",
    "\n",
    "from pyspark.sql import Row\n",
    "\n",
    "from distkeras.utils import *\n",
    "\n",
    "# Use the DataBricks CSV reader, this has some nice functionality regarding invalid values.\n",
    "os.environ['PYSPARK_SUBMIT_ARGS'] = '--packages com.databricks:spark-csv_2.10:1.4.0 pyspark-shell'"
   ]
  },
  {
   "cell_type": "code",
   "execution_count": 2,
   "metadata": {
    "collapsed": false
   },
   "outputs": [
    {
     "name": "stdout",
     "output_type": "stream",
     "text": [
      "Number of desired executors: 30\n",
      "Number of desired processes / executor: 1\n",
      "Total number of workers: 30\n"
     ]
    }
   ],
   "source": [
    "# Modify these variables according to your needs.\n",
    "application_name = \"CMS Event Preprocessing\"\n",
    "using_spark_2 = False\n",
    "local = False\n",
    "path_data = \"data/events.csv\"\n",
    "if local:\n",
    "    # Tell master to use local resources.\n",
    "    master = \"local[*]\"\n",
    "    num_processes = 3\n",
    "    num_executors = 1\n",
    "else:\n",
    "    # Tell master to use YARN.\n",
    "    master = \"yarn-client\"\n",
    "    num_executors = 30\n",
    "    num_processes = 1\n",
    "\n",
    "# This variable is derived from the number of cores and executors,\n",
    "# and will be used to assign the number of model trainers.\n",
    "num_workers = num_executors * num_processes\n",
    "\n",
    "print(\"Number of desired executors: \" + `num_executors`)\n",
    "print(\"Number of desired processes / executor: \" + `num_processes`)\n",
    "print(\"Total number of workers: \" + `num_workers`)"
   ]
  },
  {
   "cell_type": "code",
   "execution_count": 3,
   "metadata": {
    "collapsed": false
   },
   "outputs": [],
   "source": [
    "# Do not change anything here.\n",
    "conf = SparkConf()\n",
    "conf.set(\"spark.app.name\", application_name)\n",
    "conf.set(\"spark.master\", master)\n",
    "conf.set(\"spark.executor.cores\", `num_processes`)\n",
    "conf.set(\"spark.executor.instances\", `num_executors`)\n",
    "conf.set(\"spark.executor.memory\", \"6g\")\n",
    "conf.set(\"spark.locality.wait\", \"0\")\n",
    "conf.set(\"spark.serializer\", \"org.apache.spark.serializer.KryoSerializer\")\n",
    "conf.set(\"spark.kryoserializer.buffer.max.mb\", \"2000\")\n",
    "\n",
    "\n",
    "# Check if the user is running Spark 2.0 +\n",
    "if using_spark_2:\n",
    "    sc = SparkSession.builder.config(conf=conf) \\\n",
    "                     .appName(application_name) \\\n",
    "                     .getOrCreate()\n",
    "else:\n",
    "    # Create the Spark context.\n",
    "    sc = SparkContext(conf=conf)\n",
    "    # Add the missing imports\n",
    "    from pyspark import SQLContext\n",
    "    sqlContext = SQLContext(sc)"
   ]
  },
  {
   "cell_type": "code",
   "execution_count": 4,
   "metadata": {
    "collapsed": false
   },
   "outputs": [
    {
     "name": "stdout",
     "output_type": "stream",
     "text": [
      "Total number of tracks: 1747413\n"
     ]
    }
   ],
   "source": [
    "# Check if we are using Spark 2.0\n",
    "if using_spark_2:\n",
    "    reader = sc\n",
    "else:\n",
    "    reader = sqlContext\n",
    "# Read the dataset.\n",
    "dataset = reader.read.format('com.databricks.spark.csv') \\\n",
    "                .options(header='true', inferSchema='true') \\\n",
    "                .load(path_data)\n",
    "# Repartition the dataset.\n",
    "dataset = dataset.repartition(num_workers)\n",
    "dataset.cache()\n",
    "\n",
    "# Count the total number of events.\n",
    "print(\"Total number of tracks: \" + str(dataset.count()))"
   ]
  },
  {
   "cell_type": "code",
   "execution_count": 5,
   "metadata": {
    "collapsed": false
   },
   "outputs": [
    {
     "name": "stdout",
     "output_type": "stream",
     "text": [
      "Labels: {u'RSGravitonToGaGa': 3, u'PhiToMuMu': 4, u'Wjet': 0, u'H125GGgluonfusion': 5, u'DisplacedSUSY_stopToBottom': 2, u'SMS-T1tttt_mGl': 1}\n",
      "Number of labels: 6\n"
     ]
    }
   ],
   "source": [
    "# Fetch the number of different event labels.\n",
    "distinct_labels = dataset.select(dataset.label).distinct()\n",
    "distinct_labels.cache()\n",
    "raw_labels = distinct_labels.collect()\n",
    "num_labels = distinct_labels.count()\n",
    "labels = {}\n",
    "for i in range(0, len(raw_labels)):\n",
    "    label = raw_labels[i]['label']\n",
    "    labels[label] = i\n",
    "\n",
    "print(\"Labels: \" + str(labels))\n",
    "print(\"Number of labels: \" + str(num_labels))"
   ]
  },
  {
   "cell_type": "code",
   "execution_count": 6,
   "metadata": {
    "collapsed": false
   },
   "outputs": [
    {
     "name": "stdout",
     "output_type": "stream",
     "text": [
      "Number of collisions with tracks: 16358\n"
     ]
    }
   ],
   "source": [
    "def construct_keys(row):\n",
    "    run = row['run']\n",
    "    event = row['evt']\n",
    "    luminosity = row['lumi']\n",
    "    key = str(run) + '-' + str(event) + '-' + str(luminosity)\n",
    "    \n",
    "    return Row(**{'id': key, 'tracks': [row]})\n",
    "\n",
    "track_keys = dataset.map(construct_keys)\n",
    "collision_tracks = track_keys.reduceByKey(lambda a, b: a + b).map(lambda x: Row(**{'id': x[0], 'tracks': x[1]})).toDF()\n",
    "collision_tracks.cache()\n",
    "print(\"Number of collisions with tracks: \" + str(collision_tracks.count()))"
   ]
  },
  {
   "cell_type": "markdown",
   "metadata": {},
   "source": [
    "The following cell defines a function which will obtain the particle hits from a track, as registered by the CMS detector. The columns which have a `pix` prefix are the hits extracted from the [silicon pixel detector](http://cms.web.cern.ch/news/silicon-pixels). Whereas the columns with a `sis` prefix are the particle hits extracted from the [silicon strips](http://cms.web.cern.ch/news/silicon-strips)."
   ]
  },
  {
   "cell_type": "code",
   "execution_count": 7,
   "metadata": {
    "collapsed": true
   },
   "outputs": [],
   "source": [
    "def obtain_hits(track):\n",
    "    hits = []\n",
    "    # Remove the pixel detector hits.\n",
    "    for i in range(0, 5):\n",
    "        column = \"pix_\" + str(i)\n",
    "        c_x = column + \"_x\"\n",
    "        x = track[c_x]\n",
    "        c_y = column + \"_y\"\n",
    "        y = track[c_y]\n",
    "        c_z = column + \"_z\"\n",
    "        z = track[c_z]\n",
    "        if x == 0.0 or y == 0.0 or z == 0.0:\n",
    "            break\n",
    "        hits.append([x, y, z])\n",
    "    # Remove the silicon detector hits.\n",
    "    for i in range(0, 50):\n",
    "        column = \"sis_\" + str(i)\n",
    "        c_x = column + \"_x\"\n",
    "        x = track[c_x]\n",
    "        c_y = column + \"_y\"\n",
    "        y = track[c_y]\n",
    "        c_z = column + \"_z\"\n",
    "        z = track[c_z]\n",
    "        if x == 0.0 or y == 0.0 or z == 0.0:\n",
    "            break\n",
    "        hits.append([x, y, z])\n",
    "    \n",
    "    return hits"
   ]
  },
  {
   "cell_type": "code",
   "execution_count": 10,
   "metadata": {
    "collapsed": true
   },
   "outputs": [],
   "source": [
    "def construct_feature_matrix_front(tracks):\n",
    "    # Define the front matrix with the specified granularity.\n",
    "    granularity = 0.1\n",
    "    unit = 1.0 / granularity\n",
    "    size_x = int((320 / granularity) + 1)\n",
    "    size_y = int((240 / granularity) + 1)\n",
    "    middle_x = size_x / 2 - 1\n",
    "    middle_y = size_y / 2 - 1\n",
    "    m = np.zeros((size_x, size_y))\n",
    "    # Add the tracks to the matrix.\n",
    "    for track in tracks:\n",
    "        hits = np.asarray(obtain_hits(track))\n",
    "        for hit in hits:\n",
    "            x = int((hit[0] * unit) + middle_x)\n",
    "            y = int((hit[1] * unit) + middle_y)\n",
    "            m[x][y] = 1.0\n",
    "            \n",
    "    return m"
   ]
  },
  {
   "cell_type": "code",
   "execution_count": 11,
   "metadata": {
    "collapsed": true
   },
   "outputs": [],
   "source": [
    "def construct_feature_matrix_side(tracks):\n",
    "    # TODO Implement.\n",
    "    pass"
   ]
  },
  {
   "cell_type": "code",
   "execution_count": 12,
   "metadata": {
    "collapsed": true
   },
   "outputs": [],
   "source": [
    "def construct_feature_matrix_volume(tracks):\n",
    "    # TODO Implement.\n",
    "    pass"
   ]
  },
  {
   "cell_type": "code",
   "execution_count": 13,
   "metadata": {
    "collapsed": true
   },
   "outputs": [],
   "source": [
    "def format_instances(x):\n",
    "    # Obtain the tracks.\n",
    "    tracks = x[1]\n",
    "    # Construct label vector.\n",
    "    label_vector = np.zeros(num_labels)\n",
    "    for track in tracks:\n",
    "        label = track['label']\n",
    "        index = labels[label]\n",
    "        label_vector[index] = 1.0\n",
    "    # Construct the front matrix.\n",
    "    front = construct_feature_matrix_front(tracks)\n",
    "    \n",
    "    # .tolist() for NumPy arrays to make Spark a happy program.\n",
    "    return Row(**{\"id\": x[0], \"front\": front.tolist(), \"label\": label_vector.tolist(), \"tracks\": tracks})"
   ]
  },
  {
   "cell_type": "code",
   "execution_count": 14,
   "metadata": {
    "collapsed": true
   },
   "outputs": [],
   "source": [
    "# Construct the training data, and flush to HDFS for later use.\n",
    "collision_tracks.map(format_instances).toDF().write.parquet(\"data/events.parquet\")"
   ]
  },
  {
   "cell_type": "code",
   "execution_count": 8,
   "metadata": {
    "collapsed": false
   },
   "outputs": [],
   "source": [
    "def display_front_tracks(tracks):\n",
    "    num_tracks = len(tracks)\n",
    "    for i in range(0, num_tracks):\n",
    "        hits = np.asarray(obtain_hits(tracks[i]))\n",
    "        x = hits[:, 0]\n",
    "        y = hits[:, 1]\n",
    "        plt.scatter(x, y, 0.3)\n",
    "    plt.grid(False)\n",
    "    plt.xlim([-160, 160])\n",
    "    plt.ylim([-120, 120])\n",
    "    #plt.title(\"Front view CMS pixel and silicon detector\")\n",
    "    plt.show()\n",
    "\n",
    "def display_side_tracks(tracks):\n",
    "    num_tracks = len(tracks)\n",
    "    for i in range(0, num_tracks):\n",
    "        hits = np.asarray(obtain_hits(tracks[i]))\n",
    "        y = hits[:, 1]\n",
    "        z = hits[:, 2]\n",
    "        plt.scatter(z, y, 0.3)\n",
    "    plt.grid(False)\n",
    "    plt.xlim([-300, 300])\n",
    "    plt.ylim([-160, 160])\n",
    "    #plt.title(\"Side view CMS detector\")\n",
    "    plt.show()"
   ]
  },
  {
   "cell_type": "code",
   "execution_count": 19,
   "metadata": {
    "collapsed": false
   },
   "outputs": [
    {
     "name": "stdout",
     "output_type": "stream",
     "text": [
      "Displaying collision (run-event-luminosity): 1-6354-64\n"
     ]
    },
    {
     "data": {
      "image/png": "[encoded data removed]",
      "text/plain": [
       "<matplotlib.figure.Figure at 0x7fae7b883550>"
      ]
     },
     "metadata": {},
     "output_type": "display_data"
    },
    {
     "data": {
      "image/png": "[encoded data removed]",
      "text/plain": [
       "<matplotlib.figure.Figure at 0x7fae60558490>"
      ]
     },
     "metadata": {},
     "output_type": "display_data"
    }
   ],
   "source": [
    "# View the hits of the front of the detector, and the side.\n",
    "collisions = reader.read.parquet(\"data/events.parquet\")\n",
    "examples = collisions.take(1)\n",
    "for collision in examples:\n",
    "    print(\"Displaying collision (run-event-luminosity): \" + str(collision['id']))\n",
    "    display_front_tracks(collision['tracks'])\n",
    "    display_side_tracks(collision['tracks'])"
   ]
  },
  {
   "cell_type": "code",
   "execution_count": 20,
   "metadata": {
    "collapsed": false
   },
   "outputs": [
    {
     "name": "stdout",
     "output_type": "stream",
     "text": [
      "root\n",
      " |-- front: array (nullable = true)\n",
      " |    |-- element: array (containsNull = true)\n",
      " |    |    |-- element: double (containsNull = true)\n",
      " |-- id: string (nullable = true)\n",
      " |-- label: array (nullable = true)\n",
      " |    |-- element: double (containsNull = true)\n",
      " |-- tracks: array (nullable = true)\n",
      " |    |-- element: struct (containsNull = true)\n",
      " |    |    |-- : long (nullable = true)\n",
      " |    |    |-- run: long (nullable = true)\n",
      " |    |    |-- evt: long (nullable = true)\n",
      " |    |    |-- lumi: long (nullable = true)\n",
      " |    |    |-- TrackId: long (nullable = true)\n",
      " |    |    |-- charge: long (nullable = true)\n",
      " |    |    |-- chi2: double (nullable = true)\n",
      " |    |    |-- ndof: double (nullable = true)\n",
      " |    |    |-- normalizedChi2: double (nullable = true)\n",
      " |    |    |-- qoverp: double (nullable = true)\n",
      " |    |    |-- theta: double (nullable = true)\n",
      " |    |    |-- lambda: double (nullable = true)\n",
      " |    |    |-- dxy: double (nullable = true)\n",
      " |    |    |-- d0: double (nullable = true)\n",
      " |    |    |-- dsz: double (nullable = true)\n",
      " |    |    |-- dz: double (nullable = true)\n",
      " |    |    |-- p: double (nullable = true)\n",
      " |    |    |-- pt: double (nullable = true)\n",
      " |    |    |-- px: double (nullable = true)\n",
      " |    |    |-- py: double (nullable = true)\n",
      " |    |    |-- pz: double (nullable = true)\n",
      " |    |    |-- eta: double (nullable = true)\n",
      " |    |    |-- phi: double (nullable = true)\n",
      " |    |    |-- vx: double (nullable = true)\n",
      " |    |    |-- vy: double (nullable = true)\n",
      " |    |    |-- vz: double (nullable = true)\n",
      " |    |    |-- pix_0_x: double (nullable = true)\n",
      " |    |    |-- pix_0_y: double (nullable = true)\n",
      " |    |    |-- pix_0_z: double (nullable = true)\n",
      " |    |    |-- pix_1_x: double (nullable = true)\n",
      " |    |    |-- pix_1_y: double (nullable = true)\n",
      " |    |    |-- pix_1_z: double (nullable = true)\n",
      " |    |    |-- pix_2_x: double (nullable = true)\n",
      " |    |    |-- pix_2_y: double (nullable = true)\n",
      " |    |    |-- pix_2_z: double (nullable = true)\n",
      " |    |    |-- pix_3_x: double (nullable = true)\n",
      " |    |    |-- pix_3_y: double (nullable = true)\n",
      " |    |    |-- pix_3_z: double (nullable = true)\n",
      " |    |    |-- pix_4_x: double (nullable = true)\n",
      " |    |    |-- pix_4_y: double (nullable = true)\n",
      " |    |    |-- pix_4_z: double (nullable = true)\n",
      " |    |    |-- sis_0_x: double (nullable = true)\n",
      " |    |    |-- sis_0_y: double (nullable = true)\n",
      " |    |    |-- sis_0_z: double (nullable = true)\n",
      " |    |    |-- sis_1_x: double (nullable = true)\n",
      " |    |    |-- sis_1_y: double (nullable = true)\n",
      " |    |    |-- sis_1_z: double (nullable = true)\n",
      " |    |    |-- sis_2_x: double (nullable = true)\n",
      " |    |    |-- sis_2_y: double (nullable = true)\n",
      " |    |    |-- sis_2_z: double (nullable = true)\n",
      " |    |    |-- sis_3_x: double (nullable = true)\n",
      " |    |    |-- sis_3_y: double (nullable = true)\n",
      " |    |    |-- sis_3_z: double (nullable = true)\n",
      " |    |    |-- sis_4_x: double (nullable = true)\n",
      " |    |    |-- sis_4_y: double (nullable = true)\n",
      " |    |    |-- sis_4_z: double (nullable = true)\n",
      " |    |    |-- sis_5_x: double (nullable = true)\n",
      " |    |    |-- sis_5_y: double (nullable = true)\n",
      " |    |    |-- sis_5_z: double (nullable = true)\n",
      " |    |    |-- sis_6_x: double (nullable = true)\n",
      " |    |    |-- sis_6_y: double (nullable = true)\n",
      " |    |    |-- sis_6_z: double (nullable = true)\n",
      " |    |    |-- sis_7_x: double (nullable = true)\n",
      " |    |    |-- sis_7_y: double (nullable = true)\n",
      " |    |    |-- sis_7_z: double (nullable = true)\n",
      " |    |    |-- sis_8_x: double (nullable = true)\n",
      " |    |    |-- sis_8_y: double (nullable = true)\n",
      " |    |    |-- sis_8_z: double (nullable = true)\n",
      " |    |    |-- sis_9_x: double (nullable = true)\n",
      " |    |    |-- sis_9_y: double (nullable = true)\n",
      " |    |    |-- sis_9_z: double (nullable = true)\n",
      " |    |    |-- sis_10_x: double (nullable = true)\n",
      " |    |    |-- sis_10_y: double (nullable = true)\n",
      " |    |    |-- sis_10_z: double (nullable = true)\n",
      " |    |    |-- sis_11_x: double (nullable = true)\n",
      " |    |    |-- sis_11_y: double (nullable = true)\n",
      " |    |    |-- sis_11_z: double (nullable = true)\n",
      " |    |    |-- sis_12_x: double (nullable = true)\n",
      " |    |    |-- sis_12_y: double (nullable = true)\n",
      " |    |    |-- sis_12_z: double (nullable = true)\n",
      " |    |    |-- sis_13_x: double (nullable = true)\n",
      " |    |    |-- sis_13_y: double (nullable = true)\n",
      " |    |    |-- sis_13_z: double (nullable = true)\n",
      " |    |    |-- sis_14_x: double (nullable = true)\n",
      " |    |    |-- sis_14_y: double (nullable = true)\n",
      " |    |    |-- sis_14_z: double (nullable = true)\n",
      " |    |    |-- sis_15_x: double (nullable = true)\n",
      " |    |    |-- sis_15_y: double (nullable = true)\n",
      " |    |    |-- sis_15_z: double (nullable = true)\n",
      " |    |    |-- sis_16_x: double (nullable = true)\n",
      " |    |    |-- sis_16_y: double (nullable = true)\n",
      " |    |    |-- sis_16_z: double (nullable = true)\n",
      " |    |    |-- sis_17_x: double (nullable = true)\n",
      " |    |    |-- sis_17_y: double (nullable = true)\n",
      " |    |    |-- sis_17_z: double (nullable = true)\n",
      " |    |    |-- sis_18_x: double (nullable = true)\n",
      " |    |    |-- sis_18_y: double (nullable = true)\n",
      " |    |    |-- sis_18_z: double (nullable = true)\n",
      " |    |    |-- sis_19_x: double (nullable = true)\n",
      " |    |    |-- sis_19_y: double (nullable = true)\n",
      " |    |    |-- sis_19_z: double (nullable = true)\n",
      " |    |    |-- sis_20_x: double (nullable = true)\n",
      " |    |    |-- sis_20_y: double (nullable = true)\n",
      " |    |    |-- sis_20_z: double (nullable = true)\n",
      " |    |    |-- sis_21_x: double (nullable = true)\n",
      " |    |    |-- sis_21_y: double (nullable = true)\n",
      " |    |    |-- sis_21_z: double (nullable = true)\n",
      " |    |    |-- sis_22_x: double (nullable = true)\n",
      " |    |    |-- sis_22_y: double (nullable = true)\n",
      " |    |    |-- sis_22_z: double (nullable = true)\n",
      " |    |    |-- sis_23_x: double (nullable = true)\n",
      " |    |    |-- sis_23_y: double (nullable = true)\n",
      " |    |    |-- sis_23_z: double (nullable = true)\n",
      " |    |    |-- sis_24_x: double (nullable = true)\n",
      " |    |    |-- sis_24_y: double (nullable = true)\n",
      " |    |    |-- sis_24_z: double (nullable = true)\n",
      " |    |    |-- sis_25_x: double (nullable = true)\n",
      " |    |    |-- sis_25_y: double (nullable = true)\n",
      " |    |    |-- sis_25_z: double (nullable = true)\n",
      " |    |    |-- sis_26_x: double (nullable = true)\n",
      " |    |    |-- sis_26_y: double (nullable = true)\n",
      " |    |    |-- sis_26_z: double (nullable = true)\n",
      " |    |    |-- sis_27_x: double (nullable = true)\n",
      " |    |    |-- sis_27_y: double (nullable = true)\n",
      " |    |    |-- sis_27_z: double (nullable = true)\n",
      " |    |    |-- sis_28_x: double (nullable = true)\n",
      " |    |    |-- sis_28_y: double (nullable = true)\n",
      " |    |    |-- sis_28_z: double (nullable = true)\n",
      " |    |    |-- sis_29_x: double (nullable = true)\n",
      " |    |    |-- sis_29_y: double (nullable = true)\n",
      " |    |    |-- sis_29_z: double (nullable = true)\n",
      " |    |    |-- sis_30_x: double (nullable = true)\n",
      " |    |    |-- sis_30_y: double (nullable = true)\n",
      " |    |    |-- sis_30_z: double (nullable = true)\n",
      " |    |    |-- sis_31_x: double (nullable = true)\n",
      " |    |    |-- sis_31_y: double (nullable = true)\n",
      " |    |    |-- sis_31_z: double (nullable = true)\n",
      " |    |    |-- sis_32_x: double (nullable = true)\n",
      " |    |    |-- sis_32_y: double (nullable = true)\n",
      " |    |    |-- sis_32_z: double (nullable = true)\n",
      " |    |    |-- sis_33_x: double (nullable = true)\n",
      " |    |    |-- sis_33_y: double (nullable = true)\n",
      " |    |    |-- sis_33_z: double (nullable = true)\n",
      " |    |    |-- sis_34_x: double (nullable = true)\n",
      " |    |    |-- sis_34_y: double (nullable = true)\n",
      " |    |    |-- sis_34_z: double (nullable = true)\n",
      " |    |    |-- sis_35_x: double (nullable = true)\n",
      " |    |    |-- sis_35_y: double (nullable = true)\n",
      " |    |    |-- sis_35_z: double (nullable = true)\n",
      " |    |    |-- sis_36_x: double (nullable = true)\n",
      " |    |    |-- sis_36_y: double (nullable = true)\n",
      " |    |    |-- sis_36_z: double (nullable = true)\n",
      " |    |    |-- sis_37_x: double (nullable = true)\n",
      " |    |    |-- sis_37_y: double (nullable = true)\n",
      " |    |    |-- sis_37_z: double (nullable = true)\n",
      " |    |    |-- sis_38_x: double (nullable = true)\n",
      " |    |    |-- sis_38_y: double (nullable = true)\n",
      " |    |    |-- sis_38_z: double (nullable = true)\n",
      " |    |    |-- sis_39_x: double (nullable = true)\n",
      " |    |    |-- sis_39_y: double (nullable = true)\n",
      " |    |    |-- sis_39_z: double (nullable = true)\n",
      " |    |    |-- sis_40_x: double (nullable = true)\n",
      " |    |    |-- sis_40_y: double (nullable = true)\n",
      " |    |    |-- sis_40_z: double (nullable = true)\n",
      " |    |    |-- sis_41_x: double (nullable = true)\n",
      " |    |    |-- sis_41_y: double (nullable = true)\n",
      " |    |    |-- sis_41_z: double (nullable = true)\n",
      " |    |    |-- sis_42_x: double (nullable = true)\n",
      " |    |    |-- sis_42_y: double (nullable = true)\n",
      " |    |    |-- sis_42_z: double (nullable = true)\n",
      " |    |    |-- sis_43_x: double (nullable = true)\n",
      " |    |    |-- sis_43_y: double (nullable = true)\n",
      " |    |    |-- sis_43_z: double (nullable = true)\n",
      " |    |    |-- sis_44_x: double (nullable = true)\n",
      " |    |    |-- sis_44_y: double (nullable = true)\n",
      " |    |    |-- sis_44_z: double (nullable = true)\n",
      " |    |    |-- sis_45_x: double (nullable = true)\n",
      " |    |    |-- sis_45_y: double (nullable = true)\n",
      " |    |    |-- sis_45_z: double (nullable = true)\n",
      " |    |    |-- sis_46_x: double (nullable = true)\n",
      " |    |    |-- sis_46_y: double (nullable = true)\n",
      " |    |    |-- sis_46_z: double (nullable = true)\n",
      " |    |    |-- sis_47_x: double (nullable = true)\n",
      " |    |    |-- sis_47_y: double (nullable = true)\n",
      " |    |    |-- sis_47_z: double (nullable = true)\n",
      " |    |    |-- sis_48_x: double (nullable = true)\n",
      " |    |    |-- sis_48_y: double (nullable = true)\n",
      " |    |    |-- sis_48_z: double (nullable = true)\n",
      " |    |    |-- sis_49_x: double (nullable = true)\n",
      " |    |    |-- sis_49_y: double (nullable = true)\n",
      " |    |    |-- sis_49_z: double (nullable = true)\n",
      " |    |    |-- label: string (nullable = true)\n",
      "\n"
     ]
    }
   ],
   "source": [
    "# Display the schema of the collisions dataset.\n",
    "collisions.printSchema()"
   ]
  }
 ],
 "metadata": {
  "kernelspec": {
   "display_name": "Python 2",
   "language": "python",
   "name": "python2"
  },
  "language_info": {
   "codemirror_mode": {
    "name": "ipython",
    "version": 2
   },
   "file_extension": ".py",
   "mimetype": "text/x-python",
   "name": "python",
   "nbconvert_exporter": "python",
   "pygments_lexer": "ipython2",
   "version": "2.7.13"
  }
 },
 "nbformat": 4,
 "nbformat_minor": 2
}
