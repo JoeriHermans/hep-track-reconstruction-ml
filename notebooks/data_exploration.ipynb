{
 "cells": [
  {
   "cell_type": "markdown",
   "metadata": {},
   "source": [
    "# Data Exploration\n",
    "\n",
    "Joeri R. Hermans                    \n",
    "*Departement of Data Science & Knowledge Engineering*          \n",
    "*Maastricht University, The Netherlands*        "
   ]
  },
  {
   "cell_type": "code",
   "execution_count": 1,
   "metadata": {
    "collapsed": false
   },
   "outputs": [
    {
     "name": "stdout",
     "output_type": "stream",
     "text": [
      "14 February 2017\r\n"
     ]
    }
   ],
   "source": [
    "!(date +%d\\ %B\\ %G)"
   ]
  },
  {
   "cell_type": "markdown",
   "metadata": {},
   "source": [
    "In this notebook we will explore the physics data that has been granted to us. This data is intended for two purposes. The first is event classification, and the second is track reconstruction. Since event classification is a \"defacto\" task for machine learning, we will start by building a data structure for this, since at the same time it will give some insight in the data. Which we surely will need for track reconstruction."
   ]
  },
  {
   "cell_type": "code",
   "execution_count": 1,
   "metadata": {
    "collapsed": true
   },
   "outputs": [],
   "source": [
    "import numpy as np\n",
    "import pandas as pd\n",
    "import os"
   ]
  },
  {
   "cell_type": "markdown",
   "metadata": {},
   "source": [
    "List the CMS event files in the data directory."
   ]
  },
  {
   "cell_type": "code",
   "execution_count": 3,
   "metadata": {
    "collapsed": false
   },
   "outputs": [
    {
     "name": "stdout",
     "output_type": "stream",
     "text": [
      "RelValSMS-T1tttt_mGl-1500_mLSP-100_13_GEN-SIM-RECO_evt1750\n",
      "RelValH125GGgluonfusion_13_GEN-SIM-RECO_evt4500\n",
      "RelValRSGravitonToGaGa_13_GEN-SIM-RECO_evt2000\n",
      "RelValPhiToMuMu_13_GEN-SIM-RECO_evt4358\n",
      "RelValWjet_Pt_3000_3500_13_GEN-SIM-RECO_evt3150\n",
      "RelValDisplacedSUSY_stopToBottom_M_300_1000mm_13_GEN-SIM-RECO_evt3500\n"
     ]
    }
   ],
   "source": [
    "data_directory = \"../data/\"\n",
    "event_types = os.listdir(data_directory)\n",
    "\n",
    "# List the event types.\n",
    "for e in event_types:\n",
    "    print(e)"
   ]
  },
  {
   "cell_type": "markdown",
   "metadata": {},
   "source": [
    "In order to check the compatibility of the event files, we first have to check if they all share the same event attributes. We do this by reading every event type, and collect its attributes."
   ]
  },
  {
   "cell_type": "code",
   "execution_count": 13,
   "metadata": {
    "collapsed": false
   },
   "outputs": [
    {
     "name": "stdout",
     "output_type": "stream",
     "text": [
      "Equal attributes among all events: True\n"
     ]
    }
   ],
   "source": [
    "columns = []\n",
    "\n",
    "# Fetch the columns names from the events.\n",
    "for e in event_types:\n",
    "    tracker_files = os.listdir(data_directory + e)\n",
    "    tracker_file = tracker_files[0]\n",
    "    data = np.load(data_directory + e + \"/\" + tracker_file)\n",
    "    columns.append(data.dtype.names)\n",
    "\n",
    "# Check if the columns have the same attributes.\n",
    "num_columns = len(columns)\n",
    "c = columns[0]\n",
    "equal = True\n",
    "for i in range(1, num_columns):\n",
    "    equal &= (c == columns[i])\n",
    "    if not equal:\n",
    "        break\n",
    "\n",
    "print(\"Equal attributes among all events: \" + str(equal))"
   ]
  },
  {
   "cell_type": "code",
   "execution_count": 19,
   "metadata": {
    "collapsed": false
   },
   "outputs": [
    {
     "name": "stdout",
     "output_type": "stream",
     "text": [
      "run\n",
      "evt\n",
      "lumi\n",
      "TrackId\n",
      "charge\n",
      "chi2\n",
      "ndof\n",
      "normalizedChi2\n",
      "qoverp\n",
      "theta\n",
      "lambda\n",
      "dxy\n",
      "d0\n",
      "dsz\n",
      "dz\n",
      "p\n",
      "pt\n",
      "px\n",
      "py\n",
      "pz\n",
      "eta\n",
      "phi\n",
      "vx\n",
      "vy\n",
      "vz\n",
      "pix_0_x\n",
      "pix_0_y\n",
      "pix_0_z\n",
      "pix_1_x\n",
      "pix_1_y\n",
      "pix_1_z\n",
      "pix_2_x\n",
      "pix_2_y\n",
      "pix_2_z\n",
      "pix_3_x\n",
      "pix_3_y\n",
      "pix_3_z\n",
      "pix_4_x\n",
      "pix_4_y\n",
      "pix_4_z\n",
      "sis_0_x\n",
      "sis_0_y\n",
      "sis_0_z\n",
      "sis_1_x\n",
      "sis_1_y\n",
      "sis_1_z\n",
      "sis_2_x\n",
      "sis_2_y\n",
      "sis_2_z\n",
      "sis_3_x\n",
      "sis_3_y\n",
      "sis_3_z\n",
      "sis_4_x\n",
      "sis_4_y\n",
      "sis_4_z\n",
      "sis_5_x\n",
      "sis_5_y\n",
      "sis_5_z\n",
      "sis_6_x\n",
      "sis_6_y\n",
      "sis_6_z\n",
      "sis_7_x\n",
      "sis_7_y\n",
      "sis_7_z\n",
      "sis_8_x\n",
      "sis_8_y\n",
      "sis_8_z\n",
      "sis_9_x\n",
      "sis_9_y\n",
      "sis_9_z\n",
      "sis_10_x\n",
      "sis_10_y\n",
      "sis_10_z\n",
      "sis_11_x\n",
      "sis_11_y\n",
      "sis_11_z\n",
      "sis_12_x\n",
      "sis_12_y\n",
      "sis_12_z\n",
      "sis_13_x\n",
      "sis_13_y\n",
      "sis_13_z\n",
      "sis_14_x\n",
      "sis_14_y\n",
      "sis_14_z\n",
      "sis_15_x\n",
      "sis_15_y\n",
      "sis_15_z\n",
      "sis_16_x\n",
      "sis_16_y\n",
      "sis_16_z\n",
      "sis_17_x\n",
      "sis_17_y\n",
      "sis_17_z\n",
      "sis_18_x\n",
      "sis_18_y\n",
      "sis_18_z\n",
      "sis_19_x\n",
      "sis_19_y\n",
      "sis_19_z\n",
      "sis_20_x\n",
      "sis_20_y\n",
      "sis_20_z\n",
      "sis_21_x\n",
      "sis_21_y\n",
      "sis_21_z\n",
      "sis_22_x\n",
      "sis_22_y\n",
      "sis_22_z\n",
      "sis_23_x\n",
      "sis_23_y\n",
      "sis_23_z\n",
      "sis_24_x\n",
      "sis_24_y\n",
      "sis_24_z\n",
      "sis_25_x\n",
      "sis_25_y\n",
      "sis_25_z\n",
      "sis_26_x\n",
      "sis_26_y\n",
      "sis_26_z\n",
      "sis_27_x\n",
      "sis_27_y\n",
      "sis_27_z\n",
      "sis_28_x\n",
      "sis_28_y\n",
      "sis_28_z\n",
      "sis_29_x\n",
      "sis_29_y\n",
      "sis_29_z\n",
      "sis_30_x\n",
      "sis_30_y\n",
      "sis_30_z\n",
      "sis_31_x\n",
      "sis_31_y\n",
      "sis_31_z\n",
      "sis_32_x\n",
      "sis_32_y\n",
      "sis_32_z\n",
      "sis_33_x\n",
      "sis_33_y\n",
      "sis_33_z\n",
      "sis_34_x\n",
      "sis_34_y\n",
      "sis_34_z\n",
      "sis_35_x\n",
      "sis_35_y\n",
      "sis_35_z\n",
      "sis_36_x\n",
      "sis_36_y\n",
      "sis_36_z\n",
      "sis_37_x\n",
      "sis_37_y\n",
      "sis_37_z\n",
      "sis_38_x\n",
      "sis_38_y\n",
      "sis_38_z\n",
      "sis_39_x\n",
      "sis_39_y\n",
      "sis_39_z\n",
      "sis_40_x\n",
      "sis_40_y\n",
      "sis_40_z\n",
      "sis_41_x\n",
      "sis_41_y\n",
      "sis_41_z\n",
      "sis_42_x\n",
      "sis_42_y\n",
      "sis_42_z\n",
      "sis_43_x\n",
      "sis_43_y\n",
      "sis_43_z\n",
      "sis_44_x\n",
      "sis_44_y\n",
      "sis_44_z\n",
      "sis_45_x\n",
      "sis_45_y\n",
      "sis_45_z\n",
      "sis_46_x\n",
      "sis_46_y\n",
      "sis_46_z\n",
      "sis_47_x\n",
      "sis_47_y\n",
      "sis_47_z\n",
      "sis_48_x\n",
      "sis_48_y\n",
      "sis_48_z\n",
      "sis_49_x\n",
      "sis_49_y\n",
      "sis_49_z\n"
     ]
    }
   ],
   "source": [
    "# Print the attributes.\n",
    "attributes = columns[0]\n",
    "for a in attributes:\n",
    "    print(a)"
   ]
  },
  {
   "cell_type": "code",
   "execution_count": null,
   "metadata": {
    "collapsed": true
   },
   "outputs": [],
   "source": []
  }
 ],
 "metadata": {
  "anaconda-cloud": {},
  "kernelspec": {
   "display_name": "Python [conda root]",
   "language": "python",
   "name": "conda-root-py"
  },
  "language_info": {
   "codemirror_mode": {
    "name": "ipython",
    "version": 2
   },
   "file_extension": ".py",
   "mimetype": "text/x-python",
   "name": "python",
   "nbconvert_exporter": "python",
   "pygments_lexer": "ipython2",
   "version": "2.7.11"
  }
 },
 "nbformat": 4,
 "nbformat_minor": 1
}
